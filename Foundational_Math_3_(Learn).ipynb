{
  "nbformat": 4,
  "nbformat_minor": 0,
  "metadata": {
    "colab": {
      "provenance": [],
      "collapsed_sections": [
        "szp5flp1fA8-"
      ],
      "include_colab_link": true
    },
    "kernelspec": {
      "name": "python3",
      "display_name": "Python 3"
    },
    "language_info": {
      "name": "python"
    },
    "widgets": {
      "application/vnd.jupyter.widget-state+json": {
        "c90486eb7bc040828c4239085b86fc98": {
          "model_module": "@jupyter-widgets/controls",
          "model_name": "VBoxModel",
          "model_module_version": "1.5.0",
          "state": {
            "_dom_classes": [
              "widget-interact"
            ],
            "_model_module": "@jupyter-widgets/controls",
            "_model_module_version": "1.5.0",
            "_model_name": "VBoxModel",
            "_view_count": null,
            "_view_module": "@jupyter-widgets/controls",
            "_view_module_version": "1.5.0",
            "_view_name": "VBoxView",
            "box_style": "",
            "children": [
              "IPY_MODEL_faffc6d7a826480fa6cb3b972eec0318",
              "IPY_MODEL_9f4a287c42734519be4ff129c6fb4357",
              "IPY_MODEL_679537f08826426ea82ae811532162c9",
              "IPY_MODEL_093faeea094d42a7aeef014f312f5061"
            ],
            "layout": "IPY_MODEL_7ef59f405c3a47769005ef7a039f7abb"
          }
        },
        "faffc6d7a826480fa6cb3b972eec0318": {
          "model_module": "@jupyter-widgets/controls",
          "model_name": "IntSliderModel",
          "model_module_version": "1.5.0",
          "state": {
            "_dom_classes": [],
            "_model_module": "@jupyter-widgets/controls",
            "_model_module_version": "1.5.0",
            "_model_name": "IntSliderModel",
            "_view_count": null,
            "_view_module": "@jupyter-widgets/controls",
            "_view_module_version": "1.5.0",
            "_view_name": "IntSliderView",
            "continuous_update": true,
            "description": "a",
            "description_tooltip": null,
            "disabled": false,
            "layout": "IPY_MODEL_f338444e54004ca89bfebabfcdfeb96e",
            "max": 9,
            "min": -9,
            "orientation": "horizontal",
            "readout": true,
            "readout_format": "d",
            "step": 1,
            "style": "IPY_MODEL_612a83d091cc4d3e9a0198823dc5bde1",
            "value": 2
          }
        },
        "9f4a287c42734519be4ff129c6fb4357": {
          "model_module": "@jupyter-widgets/controls",
          "model_name": "IntSliderModel",
          "model_module_version": "1.5.0",
          "state": {
            "_dom_classes": [],
            "_model_module": "@jupyter-widgets/controls",
            "_model_module_version": "1.5.0",
            "_model_name": "IntSliderModel",
            "_view_count": null,
            "_view_module": "@jupyter-widgets/controls",
            "_view_module_version": "1.5.0",
            "_view_name": "IntSliderView",
            "continuous_update": true,
            "description": "b",
            "description_tooltip": null,
            "disabled": false,
            "layout": "IPY_MODEL_8b7cb0524941458a8fcd808aa01cbcfc",
            "max": 9,
            "min": -9,
            "orientation": "horizontal",
            "readout": true,
            "readout_format": "d",
            "step": 1,
            "style": "IPY_MODEL_e40a932f09544cff88c8e061ff727dd2",
            "value": 4
          }
        },
        "679537f08826426ea82ae811532162c9": {
          "model_module": "@jupyter-widgets/controls",
          "model_name": "IntSliderModel",
          "model_module_version": "1.5.0",
          "state": {
            "_dom_classes": [],
            "_model_module": "@jupyter-widgets/controls",
            "_model_module_version": "1.5.0",
            "_model_name": "IntSliderModel",
            "_view_count": null,
            "_view_module": "@jupyter-widgets/controls",
            "_view_module_version": "1.5.0",
            "_view_name": "IntSliderView",
            "continuous_update": true,
            "description": "c",
            "description_tooltip": null,
            "disabled": false,
            "layout": "IPY_MODEL_0c63143171614ecda3c327158a553397",
            "max": 9,
            "min": -9,
            "orientation": "horizontal",
            "readout": true,
            "readout_format": "d",
            "step": 1,
            "style": "IPY_MODEL_23b92ccd0bed4b518368dc8e949cec64",
            "value": -5
          }
        },
        "093faeea094d42a7aeef014f312f5061": {
          "model_module": "@jupyter-widgets/output",
          "model_name": "OutputModel",
          "model_module_version": "1.0.0",
          "state": {
            "_dom_classes": [],
            "_model_module": "@jupyter-widgets/output",
            "_model_module_version": "1.0.0",
            "_model_name": "OutputModel",
            "_view_count": null,
            "_view_module": "@jupyter-widgets/output",
            "_view_module_version": "1.0.0",
            "_view_name": "OutputView",
            "layout": "IPY_MODEL_884756b93c02415c92c8e35793d7b724",
            "msg_id": "",
            "outputs": [
              {
                "output_type": "display_data",
                "data": {
                  "text/plain": "<Figure size 640x480 with 1 Axes>",
                  "image/png": "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\n"
                },
                "metadata": {}
              }
            ]
          }
        },
        "7ef59f405c3a47769005ef7a039f7abb": {
          "model_module": "@jupyter-widgets/base",
          "model_name": "LayoutModel",
          "model_module_version": "1.2.0",
          "state": {
            "_model_module": "@jupyter-widgets/base",
            "_model_module_version": "1.2.0",
            "_model_name": "LayoutModel",
            "_view_count": null,
            "_view_module": "@jupyter-widgets/base",
            "_view_module_version": "1.2.0",
            "_view_name": "LayoutView",
            "align_content": null,
            "align_items": null,
            "align_self": null,
            "border": null,
            "bottom": null,
            "display": null,
            "flex": null,
            "flex_flow": null,
            "grid_area": null,
            "grid_auto_columns": null,
            "grid_auto_flow": null,
            "grid_auto_rows": null,
            "grid_column": null,
            "grid_gap": null,
            "grid_row": null,
            "grid_template_areas": null,
            "grid_template_columns": null,
            "grid_template_rows": null,
            "height": null,
            "justify_content": null,
            "justify_items": null,
            "left": null,
            "margin": null,
            "max_height": null,
            "max_width": null,
            "min_height": null,
            "min_width": null,
            "object_fit": null,
            "object_position": null,
            "order": null,
            "overflow": null,
            "overflow_x": null,
            "overflow_y": null,
            "padding": null,
            "right": null,
            "top": null,
            "visibility": null,
            "width": null
          }
        },
        "f338444e54004ca89bfebabfcdfeb96e": {
          "model_module": "@jupyter-widgets/base",
          "model_name": "LayoutModel",
          "model_module_version": "1.2.0",
          "state": {
            "_model_module": "@jupyter-widgets/base",
            "_model_module_version": "1.2.0",
            "_model_name": "LayoutModel",
            "_view_count": null,
            "_view_module": "@jupyter-widgets/base",
            "_view_module_version": "1.2.0",
            "_view_name": "LayoutView",
            "align_content": null,
            "align_items": null,
            "align_self": null,
            "border": null,
            "bottom": null,
            "display": null,
            "flex": null,
            "flex_flow": null,
            "grid_area": null,
            "grid_auto_columns": null,
            "grid_auto_flow": null,
            "grid_auto_rows": null,
            "grid_column": null,
            "grid_gap": null,
            "grid_row": null,
            "grid_template_areas": null,
            "grid_template_columns": null,
            "grid_template_rows": null,
            "height": null,
            "justify_content": null,
            "justify_items": null,
            "left": null,
            "margin": null,
            "max_height": null,
            "max_width": null,
            "min_height": null,
            "min_width": null,
            "object_fit": null,
            "object_position": null,
            "order": null,
            "overflow": null,
            "overflow_x": null,
            "overflow_y": null,
            "padding": null,
            "right": null,
            "top": null,
            "visibility": null,
            "width": null
          }
        },
        "612a83d091cc4d3e9a0198823dc5bde1": {
          "model_module": "@jupyter-widgets/controls",
          "model_name": "SliderStyleModel",
          "model_module_version": "1.5.0",
          "state": {
            "_model_module": "@jupyter-widgets/controls",
            "_model_module_version": "1.5.0",
            "_model_name": "SliderStyleModel",
            "_view_count": null,
            "_view_module": "@jupyter-widgets/base",
            "_view_module_version": "1.2.0",
            "_view_name": "StyleView",
            "description_width": "",
            "handle_color": null
          }
        },
        "8b7cb0524941458a8fcd808aa01cbcfc": {
          "model_module": "@jupyter-widgets/base",
          "model_name": "LayoutModel",
          "model_module_version": "1.2.0",
          "state": {
            "_model_module": "@jupyter-widgets/base",
            "_model_module_version": "1.2.0",
            "_model_name": "LayoutModel",
            "_view_count": null,
            "_view_module": "@jupyter-widgets/base",
            "_view_module_version": "1.2.0",
            "_view_name": "LayoutView",
            "align_content": null,
            "align_items": null,
            "align_self": null,
            "border": null,
            "bottom": null,
            "display": null,
            "flex": null,
            "flex_flow": null,
            "grid_area": null,
            "grid_auto_columns": null,
            "grid_auto_flow": null,
            "grid_auto_rows": null,
            "grid_column": null,
            "grid_gap": null,
            "grid_row": null,
            "grid_template_areas": null,
            "grid_template_columns": null,
            "grid_template_rows": null,
            "height": null,
            "justify_content": null,
            "justify_items": null,
            "left": null,
            "margin": null,
            "max_height": null,
            "max_width": null,
            "min_height": null,
            "min_width": null,
            "object_fit": null,
            "object_position": null,
            "order": null,
            "overflow": null,
            "overflow_x": null,
            "overflow_y": null,
            "padding": null,
            "right": null,
            "top": null,
            "visibility": null,
            "width": null
          }
        },
        "e40a932f09544cff88c8e061ff727dd2": {
          "model_module": "@jupyter-widgets/controls",
          "model_name": "SliderStyleModel",
          "model_module_version": "1.5.0",
          "state": {
            "_model_module": "@jupyter-widgets/controls",
            "_model_module_version": "1.5.0",
            "_model_name": "SliderStyleModel",
            "_view_count": null,
            "_view_module": "@jupyter-widgets/base",
            "_view_module_version": "1.2.0",
            "_view_name": "StyleView",
            "description_width": "",
            "handle_color": null
          }
        },
        "0c63143171614ecda3c327158a553397": {
          "model_module": "@jupyter-widgets/base",
          "model_name": "LayoutModel",
          "model_module_version": "1.2.0",
          "state": {
            "_model_module": "@jupyter-widgets/base",
            "_model_module_version": "1.2.0",
            "_model_name": "LayoutModel",
            "_view_count": null,
            "_view_module": "@jupyter-widgets/base",
            "_view_module_version": "1.2.0",
            "_view_name": "LayoutView",
            "align_content": null,
            "align_items": null,
            "align_self": null,
            "border": null,
            "bottom": null,
            "display": null,
            "flex": null,
            "flex_flow": null,
            "grid_area": null,
            "grid_auto_columns": null,
            "grid_auto_flow": null,
            "grid_auto_rows": null,
            "grid_column": null,
            "grid_gap": null,
            "grid_row": null,
            "grid_template_areas": null,
            "grid_template_columns": null,
            "grid_template_rows": null,
            "height": null,
            "justify_content": null,
            "justify_items": null,
            "left": null,
            "margin": null,
            "max_height": null,
            "max_width": null,
            "min_height": null,
            "min_width": null,
            "object_fit": null,
            "object_position": null,
            "order": null,
            "overflow": null,
            "overflow_x": null,
            "overflow_y": null,
            "padding": null,
            "right": null,
            "top": null,
            "visibility": null,
            "width": null
          }
        },
        "23b92ccd0bed4b518368dc8e949cec64": {
          "model_module": "@jupyter-widgets/controls",
          "model_name": "SliderStyleModel",
          "model_module_version": "1.5.0",
          "state": {
            "_model_module": "@jupyter-widgets/controls",
            "_model_module_version": "1.5.0",
            "_model_name": "SliderStyleModel",
            "_view_count": null,
            "_view_module": "@jupyter-widgets/base",
            "_view_module_version": "1.2.0",
            "_view_name": "StyleView",
            "description_width": "",
            "handle_color": null
          }
        },
        "884756b93c02415c92c8e35793d7b724": {
          "model_module": "@jupyter-widgets/base",
          "model_name": "LayoutModel",
          "model_module_version": "1.2.0",
          "state": {
            "_model_module": "@jupyter-widgets/base",
            "_model_module_version": "1.2.0",
            "_model_name": "LayoutModel",
            "_view_count": null,
            "_view_module": "@jupyter-widgets/base",
            "_view_module_version": "1.2.0",
            "_view_name": "LayoutView",
            "align_content": null,
            "align_items": null,
            "align_self": null,
            "border": null,
            "bottom": null,
            "display": null,
            "flex": null,
            "flex_flow": null,
            "grid_area": null,
            "grid_auto_columns": null,
            "grid_auto_flow": null,
            "grid_auto_rows": null,
            "grid_column": null,
            "grid_gap": null,
            "grid_row": null,
            "grid_template_areas": null,
            "grid_template_columns": null,
            "grid_template_rows": null,
            "height": null,
            "justify_content": null,
            "justify_items": null,
            "left": null,
            "margin": null,
            "max_height": null,
            "max_width": null,
            "min_height": null,
            "min_width": null,
            "object_fit": null,
            "object_position": null,
            "order": null,
            "overflow": null,
            "overflow_x": null,
            "overflow_y": null,
            "padding": null,
            "right": null,
            "top": null,
            "visibility": null,
            "width": null
          }
        },
        "f595e2fc36d3446d8a031a1716e4d6a8": {
          "model_module": "@jupyter-widgets/controls",
          "model_name": "VBoxModel",
          "model_module_version": "1.5.0",
          "state": {
            "_dom_classes": [
              "widget-interact"
            ],
            "_model_module": "@jupyter-widgets/controls",
            "_model_module_version": "1.5.0",
            "_model_name": "VBoxModel",
            "_view_count": null,
            "_view_module": "@jupyter-widgets/controls",
            "_view_module_version": "1.5.0",
            "_view_name": "VBoxView",
            "box_style": "",
            "children": [
              "IPY_MODEL_074879f6d2ab4f629e4314e79e48ef76",
              "IPY_MODEL_f42942f50f61405abe1af7bc6849c9c8",
              "IPY_MODEL_307f1ed6e4c04f87a131da38283717b6"
            ],
            "layout": "IPY_MODEL_ab169fb924184e078c16a2c69f099de0"
          }
        },
        "074879f6d2ab4f629e4314e79e48ef76": {
          "model_module": "@jupyter-widgets/controls",
          "model_name": "IntSliderModel",
          "model_module_version": "1.5.0",
          "state": {
            "_dom_classes": [],
            "_model_module": "@jupyter-widgets/controls",
            "_model_module_version": "1.5.0",
            "_model_name": "IntSliderModel",
            "_view_count": null,
            "_view_module": "@jupyter-widgets/controls",
            "_view_module_version": "1.5.0",
            "_view_name": "IntSliderView",
            "continuous_update": true,
            "description": "a",
            "description_tooltip": null,
            "disabled": false,
            "layout": "IPY_MODEL_eb6da6f494e54c2099554d9027a5d5ae",
            "max": -1,
            "min": -9,
            "orientation": "horizontal",
            "readout": true,
            "readout_format": "d",
            "step": 1,
            "style": "IPY_MODEL_2f470cba1a3143458686cb0f9fd907b2",
            "value": -5
          }
        },
        "f42942f50f61405abe1af7bc6849c9c8": {
          "model_module": "@jupyter-widgets/controls",
          "model_name": "IntSliderModel",
          "model_module_version": "1.5.0",
          "state": {
            "_dom_classes": [],
            "_model_module": "@jupyter-widgets/controls",
            "_model_module_version": "1.5.0",
            "_model_name": "IntSliderModel",
            "_view_count": null,
            "_view_module": "@jupyter-widgets/controls",
            "_view_module_version": "1.5.0",
            "_view_name": "IntSliderView",
            "continuous_update": true,
            "description": "b",
            "description_tooltip": null,
            "disabled": false,
            "layout": "IPY_MODEL_b4c2146e4b9b4bc188d93120b0834f89",
            "max": 9,
            "min": 1,
            "orientation": "horizontal",
            "readout": true,
            "readout_format": "d",
            "step": 1,
            "style": "IPY_MODEL_c779d013a9304cb9b78e5b317c7c4b2c",
            "value": 5
          }
        },
        "307f1ed6e4c04f87a131da38283717b6": {
          "model_module": "@jupyter-widgets/output",
          "model_name": "OutputModel",
          "model_module_version": "1.0.0",
          "state": {
            "_dom_classes": [],
            "_model_module": "@jupyter-widgets/output",
            "_model_module_version": "1.0.0",
            "_model_name": "OutputModel",
            "_view_count": null,
            "_view_module": "@jupyter-widgets/output",
            "_view_module_version": "1.0.0",
            "_view_name": "OutputView",
            "layout": "IPY_MODEL_937aced47093426b8c0885f28a3236c5",
            "msg_id": "",
            "outputs": [
              {
                "output_type": "display_data",
                "data": {
                  "text/plain": "<Figure size 640x480 with 1 Axes>",
                  "image/png": "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\n"
                },
                "metadata": {}
              }
            ]
          }
        },
        "ab169fb924184e078c16a2c69f099de0": {
          "model_module": "@jupyter-widgets/base",
          "model_name": "LayoutModel",
          "model_module_version": "1.2.0",
          "state": {
            "_model_module": "@jupyter-widgets/base",
            "_model_module_version": "1.2.0",
            "_model_name": "LayoutModel",
            "_view_count": null,
            "_view_module": "@jupyter-widgets/base",
            "_view_module_version": "1.2.0",
            "_view_name": "LayoutView",
            "align_content": null,
            "align_items": null,
            "align_self": null,
            "border": null,
            "bottom": null,
            "display": null,
            "flex": null,
            "flex_flow": null,
            "grid_area": null,
            "grid_auto_columns": null,
            "grid_auto_flow": null,
            "grid_auto_rows": null,
            "grid_column": null,
            "grid_gap": null,
            "grid_row": null,
            "grid_template_areas": null,
            "grid_template_columns": null,
            "grid_template_rows": null,
            "height": null,
            "justify_content": null,
            "justify_items": null,
            "left": null,
            "margin": null,
            "max_height": null,
            "max_width": null,
            "min_height": null,
            "min_width": null,
            "object_fit": null,
            "object_position": null,
            "order": null,
            "overflow": null,
            "overflow_x": null,
            "overflow_y": null,
            "padding": null,
            "right": null,
            "top": null,
            "visibility": null,
            "width": null
          }
        },
        "eb6da6f494e54c2099554d9027a5d5ae": {
          "model_module": "@jupyter-widgets/base",
          "model_name": "LayoutModel",
          "model_module_version": "1.2.0",
          "state": {
            "_model_module": "@jupyter-widgets/base",
            "_model_module_version": "1.2.0",
            "_model_name": "LayoutModel",
            "_view_count": null,
            "_view_module": "@jupyter-widgets/base",
            "_view_module_version": "1.2.0",
            "_view_name": "LayoutView",
            "align_content": null,
            "align_items": null,
            "align_self": null,
            "border": null,
            "bottom": null,
            "display": null,
            "flex": null,
            "flex_flow": null,
            "grid_area": null,
            "grid_auto_columns": null,
            "grid_auto_flow": null,
            "grid_auto_rows": null,
            "grid_column": null,
            "grid_gap": null,
            "grid_row": null,
            "grid_template_areas": null,
            "grid_template_columns": null,
            "grid_template_rows": null,
            "height": null,
            "justify_content": null,
            "justify_items": null,
            "left": null,
            "margin": null,
            "max_height": null,
            "max_width": null,
            "min_height": null,
            "min_width": null,
            "object_fit": null,
            "object_position": null,
            "order": null,
            "overflow": null,
            "overflow_x": null,
            "overflow_y": null,
            "padding": null,
            "right": null,
            "top": null,
            "visibility": null,
            "width": null
          }
        },
        "2f470cba1a3143458686cb0f9fd907b2": {
          "model_module": "@jupyter-widgets/controls",
          "model_name": "SliderStyleModel",
          "model_module_version": "1.5.0",
          "state": {
            "_model_module": "@jupyter-widgets/controls",
            "_model_module_version": "1.5.0",
            "_model_name": "SliderStyleModel",
            "_view_count": null,
            "_view_module": "@jupyter-widgets/base",
            "_view_module_version": "1.2.0",
            "_view_name": "StyleView",
            "description_width": "",
            "handle_color": null
          }
        },
        "b4c2146e4b9b4bc188d93120b0834f89": {
          "model_module": "@jupyter-widgets/base",
          "model_name": "LayoutModel",
          "model_module_version": "1.2.0",
          "state": {
            "_model_module": "@jupyter-widgets/base",
            "_model_module_version": "1.2.0",
            "_model_name": "LayoutModel",
            "_view_count": null,
            "_view_module": "@jupyter-widgets/base",
            "_view_module_version": "1.2.0",
            "_view_name": "LayoutView",
            "align_content": null,
            "align_items": null,
            "align_self": null,
            "border": null,
            "bottom": null,
            "display": null,
            "flex": null,
            "flex_flow": null,
            "grid_area": null,
            "grid_auto_columns": null,
            "grid_auto_flow": null,
            "grid_auto_rows": null,
            "grid_column": null,
            "grid_gap": null,
            "grid_row": null,
            "grid_template_areas": null,
            "grid_template_columns": null,
            "grid_template_rows": null,
            "height": null,
            "justify_content": null,
            "justify_items": null,
            "left": null,
            "margin": null,
            "max_height": null,
            "max_width": null,
            "min_height": null,
            "min_width": null,
            "object_fit": null,
            "object_position": null,
            "order": null,
            "overflow": null,
            "overflow_x": null,
            "overflow_y": null,
            "padding": null,
            "right": null,
            "top": null,
            "visibility": null,
            "width": null
          }
        },
        "c779d013a9304cb9b78e5b317c7c4b2c": {
          "model_module": "@jupyter-widgets/controls",
          "model_name": "SliderStyleModel",
          "model_module_version": "1.5.0",
          "state": {
            "_model_module": "@jupyter-widgets/controls",
            "_model_module_version": "1.5.0",
            "_model_name": "SliderStyleModel",
            "_view_count": null,
            "_view_module": "@jupyter-widgets/base",
            "_view_module_version": "1.2.0",
            "_view_name": "StyleView",
            "description_width": "",
            "handle_color": null
          }
        },
        "937aced47093426b8c0885f28a3236c5": {
          "model_module": "@jupyter-widgets/base",
          "model_name": "LayoutModel",
          "model_module_version": "1.2.0",
          "state": {
            "_model_module": "@jupyter-widgets/base",
            "_model_module_version": "1.2.0",
            "_model_name": "LayoutModel",
            "_view_count": null,
            "_view_module": "@jupyter-widgets/base",
            "_view_module_version": "1.2.0",
            "_view_name": "LayoutView",
            "align_content": null,
            "align_items": null,
            "align_self": null,
            "border": null,
            "bottom": null,
            "display": null,
            "flex": null,
            "flex_flow": null,
            "grid_area": null,
            "grid_auto_columns": null,
            "grid_auto_flow": null,
            "grid_auto_rows": null,
            "grid_column": null,
            "grid_gap": null,
            "grid_row": null,
            "grid_template_areas": null,
            "grid_template_columns": null,
            "grid_template_rows": null,
            "height": null,
            "justify_content": null,
            "justify_items": null,
            "left": null,
            "margin": null,
            "max_height": null,
            "max_width": null,
            "min_height": null,
            "min_width": null,
            "object_fit": null,
            "object_position": null,
            "order": null,
            "overflow": null,
            "overflow_x": null,
            "overflow_y": null,
            "padding": null,
            "right": null,
            "top": null,
            "visibility": null,
            "width": null
          }
        },
        "44d74dc82d634b759b00f92dd19044e7": {
          "model_module": "@jupyter-widgets/controls",
          "model_name": "VBoxModel",
          "model_module_version": "1.5.0",
          "state": {
            "_dom_classes": [
              "widget-interact"
            ],
            "_model_module": "@jupyter-widgets/controls",
            "_model_module_version": "1.5.0",
            "_model_name": "VBoxModel",
            "_view_count": null,
            "_view_module": "@jupyter-widgets/controls",
            "_view_module_version": "1.5.0",
            "_view_name": "VBoxView",
            "box_style": "",
            "children": [
              "IPY_MODEL_1ef92d6f03bf43489d765d0ec7220dbd",
              "IPY_MODEL_be1df8b8a6b44a8c8b5732ea77d146ea",
              "IPY_MODEL_4f356520c5074e648d820a27a182f0d6",
              "IPY_MODEL_532d9afe881a4049b5c1b24872103ad0"
            ],
            "layout": "IPY_MODEL_767fc33e83a5408abecfc55c0b10de38"
          }
        },
        "1ef92d6f03bf43489d765d0ec7220dbd": {
          "model_module": "@jupyter-widgets/controls",
          "model_name": "IntSliderModel",
          "model_module_version": "1.5.0",
          "state": {
            "_dom_classes": [],
            "_model_module": "@jupyter-widgets/controls",
            "_model_module_version": "1.5.0",
            "_model_name": "IntSliderModel",
            "_view_count": null,
            "_view_module": "@jupyter-widgets/controls",
            "_view_module_version": "1.5.0",
            "_view_name": "IntSliderView",
            "continuous_update": true,
            "description": "a",
            "description_tooltip": null,
            "disabled": false,
            "layout": "IPY_MODEL_63a4937ff76844bdb724b972d26bb3f1",
            "max": 9,
            "min": -9,
            "orientation": "horizontal",
            "readout": true,
            "readout_format": "d",
            "step": 1,
            "style": "IPY_MODEL_fb36e50a195640a7b532e3426eb44051",
            "value": 2
          }
        },
        "be1df8b8a6b44a8c8b5732ea77d146ea": {
          "model_module": "@jupyter-widgets/controls",
          "model_name": "IntSliderModel",
          "model_module_version": "1.5.0",
          "state": {
            "_dom_classes": [],
            "_model_module": "@jupyter-widgets/controls",
            "_model_module_version": "1.5.0",
            "_model_name": "IntSliderModel",
            "_view_count": null,
            "_view_module": "@jupyter-widgets/controls",
            "_view_module_version": "1.5.0",
            "_view_name": "IntSliderView",
            "continuous_update": true,
            "description": "b",
            "description_tooltip": null,
            "disabled": false,
            "layout": "IPY_MODEL_d79d6ba84b9b4fe8ab2629d9614b54e2",
            "max": 9,
            "min": -9,
            "orientation": "horizontal",
            "readout": true,
            "readout_format": "d",
            "step": 1,
            "style": "IPY_MODEL_e369b84350be46358c45b76d0a2aab90",
            "value": 5
          }
        },
        "4f356520c5074e648d820a27a182f0d6": {
          "model_module": "@jupyter-widgets/controls",
          "model_name": "IntSliderModel",
          "model_module_version": "1.5.0",
          "state": {
            "_dom_classes": [],
            "_model_module": "@jupyter-widgets/controls",
            "_model_module_version": "1.5.0",
            "_model_name": "IntSliderModel",
            "_view_count": null,
            "_view_module": "@jupyter-widgets/controls",
            "_view_module_version": "1.5.0",
            "_view_name": "IntSliderView",
            "continuous_update": true,
            "description": "c",
            "description_tooltip": null,
            "disabled": false,
            "layout": "IPY_MODEL_e1ffd0dc564b44e38d0169cc62b2a917",
            "max": 9,
            "min": -9,
            "orientation": "horizontal",
            "readout": true,
            "readout_format": "d",
            "step": 1,
            "style": "IPY_MODEL_7b37a5ffd6e240b7960b8170432a9e26",
            "value": -6
          }
        },
        "532d9afe881a4049b5c1b24872103ad0": {
          "model_module": "@jupyter-widgets/output",
          "model_name": "OutputModel",
          "model_module_version": "1.0.0",
          "state": {
            "_dom_classes": [],
            "_model_module": "@jupyter-widgets/output",
            "_model_module_version": "1.0.0",
            "_model_name": "OutputModel",
            "_view_count": null,
            "_view_module": "@jupyter-widgets/output",
            "_view_module_version": "1.0.0",
            "_view_name": "OutputView",
            "layout": "IPY_MODEL_a8bea3e137884602b7cc9a2e019a1725",
            "msg_id": "",
            "outputs": [
              {
                "output_type": "display_data",
                "data": {
                  "text/plain": "<Figure size 640x480 with 1 Axes>",
                  "image/png": "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\n"
                },
                "metadata": {}
              }
            ]
          }
        },
        "767fc33e83a5408abecfc55c0b10de38": {
          "model_module": "@jupyter-widgets/base",
          "model_name": "LayoutModel",
          "model_module_version": "1.2.0",
          "state": {
            "_model_module": "@jupyter-widgets/base",
            "_model_module_version": "1.2.0",
            "_model_name": "LayoutModel",
            "_view_count": null,
            "_view_module": "@jupyter-widgets/base",
            "_view_module_version": "1.2.0",
            "_view_name": "LayoutView",
            "align_content": null,
            "align_items": null,
            "align_self": null,
            "border": null,
            "bottom": null,
            "display": null,
            "flex": null,
            "flex_flow": null,
            "grid_area": null,
            "grid_auto_columns": null,
            "grid_auto_flow": null,
            "grid_auto_rows": null,
            "grid_column": null,
            "grid_gap": null,
            "grid_row": null,
            "grid_template_areas": null,
            "grid_template_columns": null,
            "grid_template_rows": null,
            "height": null,
            "justify_content": null,
            "justify_items": null,
            "left": null,
            "margin": null,
            "max_height": null,
            "max_width": null,
            "min_height": null,
            "min_width": null,
            "object_fit": null,
            "object_position": null,
            "order": null,
            "overflow": null,
            "overflow_x": null,
            "overflow_y": null,
            "padding": null,
            "right": null,
            "top": null,
            "visibility": null,
            "width": null
          }
        },
        "63a4937ff76844bdb724b972d26bb3f1": {
          "model_module": "@jupyter-widgets/base",
          "model_name": "LayoutModel",
          "model_module_version": "1.2.0",
          "state": {
            "_model_module": "@jupyter-widgets/base",
            "_model_module_version": "1.2.0",
            "_model_name": "LayoutModel",
            "_view_count": null,
            "_view_module": "@jupyter-widgets/base",
            "_view_module_version": "1.2.0",
            "_view_name": "LayoutView",
            "align_content": null,
            "align_items": null,
            "align_self": null,
            "border": null,
            "bottom": null,
            "display": null,
            "flex": null,
            "flex_flow": null,
            "grid_area": null,
            "grid_auto_columns": null,
            "grid_auto_flow": null,
            "grid_auto_rows": null,
            "grid_column": null,
            "grid_gap": null,
            "grid_row": null,
            "grid_template_areas": null,
            "grid_template_columns": null,
            "grid_template_rows": null,
            "height": null,
            "justify_content": null,
            "justify_items": null,
            "left": null,
            "margin": null,
            "max_height": null,
            "max_width": null,
            "min_height": null,
            "min_width": null,
            "object_fit": null,
            "object_position": null,
            "order": null,
            "overflow": null,
            "overflow_x": null,
            "overflow_y": null,
            "padding": null,
            "right": null,
            "top": null,
            "visibility": null,
            "width": null
          }
        },
        "fb36e50a195640a7b532e3426eb44051": {
          "model_module": "@jupyter-widgets/controls",
          "model_name": "SliderStyleModel",
          "model_module_version": "1.5.0",
          "state": {
            "_model_module": "@jupyter-widgets/controls",
            "_model_module_version": "1.5.0",
            "_model_name": "SliderStyleModel",
            "_view_count": null,
            "_view_module": "@jupyter-widgets/base",
            "_view_module_version": "1.2.0",
            "_view_name": "StyleView",
            "description_width": "",
            "handle_color": null
          }
        },
        "d79d6ba84b9b4fe8ab2629d9614b54e2": {
          "model_module": "@jupyter-widgets/base",
          "model_name": "LayoutModel",
          "model_module_version": "1.2.0",
          "state": {
            "_model_module": "@jupyter-widgets/base",
            "_model_module_version": "1.2.0",
            "_model_name": "LayoutModel",
            "_view_count": null,
            "_view_module": "@jupyter-widgets/base",
            "_view_module_version": "1.2.0",
            "_view_name": "LayoutView",
            "align_content": null,
            "align_items": null,
            "align_self": null,
            "border": null,
            "bottom": null,
            "display": null,
            "flex": null,
            "flex_flow": null,
            "grid_area": null,
            "grid_auto_columns": null,
            "grid_auto_flow": null,
            "grid_auto_rows": null,
            "grid_column": null,
            "grid_gap": null,
            "grid_row": null,
            "grid_template_areas": null,
            "grid_template_columns": null,
            "grid_template_rows": null,
            "height": null,
            "justify_content": null,
            "justify_items": null,
            "left": null,
            "margin": null,
            "max_height": null,
            "max_width": null,
            "min_height": null,
            "min_width": null,
            "object_fit": null,
            "object_position": null,
            "order": null,
            "overflow": null,
            "overflow_x": null,
            "overflow_y": null,
            "padding": null,
            "right": null,
            "top": null,
            "visibility": null,
            "width": null
          }
        },
        "e369b84350be46358c45b76d0a2aab90": {
          "model_module": "@jupyter-widgets/controls",
          "model_name": "SliderStyleModel",
          "model_module_version": "1.5.0",
          "state": {
            "_model_module": "@jupyter-widgets/controls",
            "_model_module_version": "1.5.0",
            "_model_name": "SliderStyleModel",
            "_view_count": null,
            "_view_module": "@jupyter-widgets/base",
            "_view_module_version": "1.2.0",
            "_view_name": "StyleView",
            "description_width": "",
            "handle_color": null
          }
        },
        "e1ffd0dc564b44e38d0169cc62b2a917": {
          "model_module": "@jupyter-widgets/base",
          "model_name": "LayoutModel",
          "model_module_version": "1.2.0",
          "state": {
            "_model_module": "@jupyter-widgets/base",
            "_model_module_version": "1.2.0",
            "_model_name": "LayoutModel",
            "_view_count": null,
            "_view_module": "@jupyter-widgets/base",
            "_view_module_version": "1.2.0",
            "_view_name": "LayoutView",
            "align_content": null,
            "align_items": null,
            "align_self": null,
            "border": null,
            "bottom": null,
            "display": null,
            "flex": null,
            "flex_flow": null,
            "grid_area": null,
            "grid_auto_columns": null,
            "grid_auto_flow": null,
            "grid_auto_rows": null,
            "grid_column": null,
            "grid_gap": null,
            "grid_row": null,
            "grid_template_areas": null,
            "grid_template_columns": null,
            "grid_template_rows": null,
            "height": null,
            "justify_content": null,
            "justify_items": null,
            "left": null,
            "margin": null,
            "max_height": null,
            "max_width": null,
            "min_height": null,
            "min_width": null,
            "object_fit": null,
            "object_position": null,
            "order": null,
            "overflow": null,
            "overflow_x": null,
            "overflow_y": null,
            "padding": null,
            "right": null,
            "top": null,
            "visibility": null,
            "width": null
          }
        },
        "7b37a5ffd6e240b7960b8170432a9e26": {
          "model_module": "@jupyter-widgets/controls",
          "model_name": "SliderStyleModel",
          "model_module_version": "1.5.0",
          "state": {
            "_model_module": "@jupyter-widgets/controls",
            "_model_module_version": "1.5.0",
            "_model_name": "SliderStyleModel",
            "_view_count": null,
            "_view_module": "@jupyter-widgets/base",
            "_view_module_version": "1.2.0",
            "_view_name": "StyleView",
            "description_width": "",
            "handle_color": null
          }
        },
        "a8bea3e137884602b7cc9a2e019a1725": {
          "model_module": "@jupyter-widgets/base",
          "model_name": "LayoutModel",
          "model_module_version": "1.2.0",
          "state": {
            "_model_module": "@jupyter-widgets/base",
            "_model_module_version": "1.2.0",
            "_model_name": "LayoutModel",
            "_view_count": null,
            "_view_module": "@jupyter-widgets/base",
            "_view_module_version": "1.2.0",
            "_view_name": "LayoutView",
            "align_content": null,
            "align_items": null,
            "align_self": null,
            "border": null,
            "bottom": null,
            "display": null,
            "flex": null,
            "flex_flow": null,
            "grid_area": null,
            "grid_auto_columns": null,
            "grid_auto_flow": null,
            "grid_auto_rows": null,
            "grid_column": null,
            "grid_gap": null,
            "grid_row": null,
            "grid_template_areas": null,
            "grid_template_columns": null,
            "grid_template_rows": null,
            "height": null,
            "justify_content": null,
            "justify_items": null,
            "left": null,
            "margin": null,
            "max_height": null,
            "max_width": null,
            "min_height": null,
            "min_width": null,
            "object_fit": null,
            "object_position": null,
            "order": null,
            "overflow": null,
            "overflow_x": null,
            "overflow_y": null,
            "padding": null,
            "right": null,
            "top": null,
            "visibility": null,
            "width": null
          }
        }
      }
    }
  },
  "cells": [
    {
      "cell_type": "markdown",
      "metadata": {
        "id": "view-in-github",
        "colab_type": "text"
      },
      "source": [
        "<a href=\"https://colab.research.google.com/github/xujialuellie/Algebra_with_Python/blob/main/Foundational_Math_3_(Learn).ipynb\" target=\"_parent\"><img src=\"https://colab.research.google.com/assets/colab-badge.svg\" alt=\"Open In Colab\"/></a>"
      ]
    },
    {
      "cell_type": "markdown",
      "metadata": {
        "id": "EsfO5Q92tL-6"
      },
      "source": [
        "[![freeCodeCamp](https://cdn.freecodecamp.org/testable-projects-fcc/images/fcc_secondary.svg)](https://freecodecamp.org/)"
      ]
    },
    {
      "cell_type": "markdown",
      "metadata": {
        "id": "57mlyO58UfN0"
      },
      "source": [
        "**Learn Foundational Math 3 by Building a Financial App**<br>\n",
        "Each of these steps will lead you toward the Certification Project. Once you complete a step, click to expand the next step."
      ]
    },
    {
      "cell_type": "markdown",
      "metadata": {
        "id": "szp5flp1fA8-"
      },
      "source": [
        "# &darr; **Do this first** &darr;\n",
        "Copy this notebook to your own account by clicking the `File` button at the top, and then click `Save a copy in Drive`. You will need to be logged in to Google. The file will be in a folder called \"Colab Notebooks\" in your Google Drive. "
      ]
    },
    {
      "cell_type": "markdown",
      "source": [
        "# Step 0 - Acquire the Testing Library"
      ],
      "metadata": {
        "id": "KDloBuvnHQTS"
      }
    },
    {
      "cell_type": "markdown",
      "source": [
        "Please run this code to get the library file from FreeCodeCamp. Each step will use this library to test your code. You do not need to edit anything; just run this code cell and wait a few seconds until it tells you to go on to the next step."
      ],
      "metadata": {
        "id": "JiW6TlNezZKS"
      }
    },
    {
      "cell_type": "code",
      "source": [
        "# You may need to run this cell at the beginning of each new session\n",
        "\n",
        "!pip install requests\n",
        "\n",
        "# This will just take a few seconds\n",
        "\n",
        "import requests\n",
        "\n",
        "# Get the library from GitHub\n",
        "url = 'https://raw.githubusercontent.com/edatfreecodecamp/python-math/main/math-code-test-c.py'\n",
        "r = requests.get(url)\n",
        "\n",
        "# Save the library in a local working directory \n",
        "with open('math_code_test_c.py', 'w') as f:\n",
        "    f.write(r.text)\n",
        "\n",
        "# Now you can import the library\n",
        "import math_code_test_c as test\n",
        "\n",
        "# This will tell you if the code works\n",
        "test.step00()"
      ],
      "metadata": {
        "id": "eTlHceacGa1C",
        "colab": {
          "base_uri": "https://localhost:8080/"
        },
        "outputId": "c2f3bdeb-5cb3-4a66-e856-dbb61b4ec34f"
      },
      "execution_count": 1,
      "outputs": [
        {
          "output_type": "stream",
          "name": "stdout",
          "text": [
            "Looking in indexes: https://pypi.org/simple, https://us-python.pkg.dev/colab-wheels/public/simple/\n",
            "Requirement already satisfied: requests in /usr/local/lib/python3.10/dist-packages (2.27.1)\n",
            "Requirement already satisfied: urllib3<1.27,>=1.21.1 in /usr/local/lib/python3.10/dist-packages (from requests) (1.26.15)\n",
            "Requirement already satisfied: certifi>=2017.4.17 in /usr/local/lib/python3.10/dist-packages (from requests) (2022.12.7)\n",
            "Requirement already satisfied: charset-normalizer~=2.0.0 in /usr/local/lib/python3.10/dist-packages (from requests) (2.0.12)\n",
            "Requirement already satisfied: idna<4,>=2.5 in /usr/local/lib/python3.10/dist-packages (from requests) (3.4)\n",
            "Code test passed\n",
            "Go on to the next step\n"
          ]
        }
      ]
    },
    {
      "cell_type": "markdown",
      "metadata": {
        "id": "r1AM-AcqkbyF"
      },
      "source": [
        "# Step 1 - Graphing Inequalities"
      ]
    },
    {
      "cell_type": "markdown",
      "metadata": {
        "id": "K8rdL_OEkd-t"
      },
      "source": [
        "Learn Inequalities by Building Shaded Graphs. Notice how you set up the plot, like you learned in the last certification. Run the following code and you will see that the graph of y <u>></u> 2x is not quite right. Because y is greater, the shading should be above the line. The second two arguments in the `fill_between()` function give a range of y values to shade. Change just that part of the code to make the graph correct. (Hint: Think about the top of the graph.)\n"
      ]
    },
    {
      "cell_type": "code",
      "metadata": {
        "id": "QAVgVP3xUd4J",
        "colab": {
          "base_uri": "https://localhost:8080/",
          "height": 504
        },
        "outputId": "66d8ca1c-752a-4d1b-f83e-0e1c2f52ac9f"
      },
      "source": [
        "import matplotlib.pyplot as plt\n",
        "import numpy as np\n",
        "\n",
        "xmin = -10\n",
        "xmax = 10\n",
        "ymin = - 10\n",
        "ymax = 10\n",
        "points = 2*(xmax-xmin)\n",
        "x = np.linspace(xmin,xmax,points)\n",
        "\n",
        "fig, ax = plt.subplots()\n",
        "plt.axis([xmin,xmax,ymin,ymax]) # window size\n",
        "plt.plot([xmin,xmax],[0,0],'b') # blue x axis\n",
        "plt.plot([0,0],[ymin,ymax], 'b') # blue y axis\n",
        "\n",
        "plt.title(\"y > 2x\")\n",
        " \n",
        "y1 = 2*x\n",
        "plt.plot(x, y1)\n",
        "\n",
        "# Only change code below this line\n",
        "plt.fill_between(x, y1, ymax)\n",
        "\n",
        "plt.show()\n",
        "\n",
        "\n",
        "# Only change code above this line\n",
        "import math_code_test_c as test\n",
        "test.step01(In[-1].split('# Only change code above this line')[0])"
      ],
      "execution_count": 4,
      "outputs": [
        {
          "output_type": "display_data",
          "data": {
            "text/plain": [
              "<Figure size 640x480 with 1 Axes>"
            ],
            "image/png": "[encoded data removed]"
          },
          "metadata": {}
        },
        {
          "output_type": "stream",
          "name": "stdout",
          "text": [
            " \n",
            "Code test passed\n",
            "Go on to the next step\n"
          ]
        }
      ]
    },
    {
      "cell_type": "markdown",
      "metadata": {
        "id": "8wXbGsoYkm60"
      },
      "source": [
        "# Step 2 - Graphing inequalities - Part 2"
      ]
    },
    {
      "cell_type": "markdown",
      "metadata": {
        "id": "ehY1G02Dkv7r"
      },
      "source": [
        "The default graph will give you a solid line, but you can change the type of line and the color. As `'b'` is for a solid blue line, `'b--'` will be a dashed blue line and `'r--'` will display a dashed red line. Change the code to graph a dashed red line. "
      ]
    },
    {
      "cell_type": "code",
      "metadata": {
        "id": "3Pp_SmUikwgy",
        "colab": {
          "base_uri": "https://localhost:8080/",
          "height": 487
        },
        "outputId": "7bf307d5-5fd4-4729-8ab4-17afe656001b"
      },
      "source": [
        "import matplotlib.pyplot as plt\n",
        "import numpy as np\n",
        "\n",
        "xmin = -10\n",
        "xmax = 10\n",
        "ymin = - 10\n",
        "ymax = 10\n",
        "points = 2*(xmax-xmin)\n",
        "x = np.linspace(xmin,xmax,points)\n",
        "\n",
        "fig, ax = plt.subplots()\n",
        "plt.axis([xmin,xmax,ymin,ymax]) # window size\n",
        "plt.plot([xmin,xmax],[0,0],'b') # blue x axis\n",
        "plt.plot([0,0],[ymin,ymax], 'b') # blue y axis\n",
        "\n",
        "y1 = 2*x\n",
        "\n",
        "# Only change the next line:\n",
        "plt.plot(x, y1, 'r--')\n",
        "\n",
        "plt.fill_between(x, y1, ymin)\n",
        "plt.show()\n",
        "\n",
        "\n",
        "\n",
        "# Only change code above this line\n",
        "import math_code_test_c as test\n",
        "test.step02(In[-1].split('# Only change code above this line')[0])"
      ],
      "execution_count": 5,
      "outputs": [
        {
          "output_type": "display_data",
          "data": {
            "text/plain": [
              "<Figure size 640x480 with 1 Axes>"
            ],
            "image/png": "[encoded data removed]"
          },
          "metadata": {}
        },
        {
          "output_type": "stream",
          "name": "stdout",
          "text": [
            " \n",
            "Code test passed\n",
            "Go on to the next step\n"
          ]
        }
      ]
    },
    {
      "cell_type": "markdown",
      "metadata": {
        "id": "tBxuJtHck2Oo"
      },
      "source": [
        "# Step 3 - Making Art with Graphs"
      ]
    },
    {
      "cell_type": "markdown",
      "metadata": {
        "id": "PTr63nCrlTiM"
      },
      "source": [
        "Now plot four inequalities on the graph, in a pattern. Notice how you only need to define the x values once. In the `fill_between()` function notice a fourth argument, `facecolor=`, to indicate a different color for the shaded area. The color name in single quotes, like 'green' or 'yellow' or any common color name. Run the code to see the pattern, then reverse the order of the colors and run it again."
      ]
    },
    {
      "cell_type": "code",
      "metadata": {
        "id": "Iyoq1h3vlV-a",
        "colab": {
          "base_uri": "https://localhost:8080/",
          "height": 487
        },
        "outputId": "e859cde3-d1f1-423b-9a3e-daefba11f11d"
      },
      "source": [
        "import matplotlib.pyplot as plt\n",
        "import numpy as np\n",
        "\n",
        "xmin = -10\n",
        "xmax = 10\n",
        "ymin = - 10\n",
        "ymax = 10\n",
        "points = 2*(xmax-xmin)\n",
        "x = np.linspace(xmin,xmax,points)\n",
        "\n",
        "fig, ax = plt.subplots()\n",
        "plt.axis([xmin,xmax,ymin,ymax]) # window size\n",
        "plt.plot([xmin,xmax],[0,0],'b') # blue x axis\n",
        "plt.plot([0,0],[ymin,ymax], 'b') # blue y axis\n",
        "\n",
        "# Only change the lines indicated below\n",
        "\n",
        "# line 1\n",
        "y1 = x+6\n",
        "plt.plot(x, y1)\n",
        "plt.fill_between(x, y1, 10, facecolor='blue') # change this line\n",
        "\n",
        "# line 2\n",
        "y2 = x+3\n",
        "plt.plot(x, y2)\n",
        "plt.fill_between(x, y2, y1, facecolor='green') # change this line\n",
        "\n",
        "# line 3\n",
        "y3 = x-1\n",
        "plt.plot(x, y3)\n",
        "plt.fill_between(x, y3, y2, facecolor='yellow') # change this line\n",
        "\n",
        "# line 4\n",
        "y4 = x-4\n",
        "plt.plot(x, y4)\n",
        "plt.fill_between(x, y4, y3, facecolor='red') # change this line\n",
        "\n",
        "plt.show()\n",
        "\n",
        "\n",
        "\n",
        "# Only change code above this line\n",
        "import math_code_test_c as test\n",
        "test.step03(In[-1].split('# Only change code above this line')[0])"
      ],
      "execution_count": 7,
      "outputs": [
        {
          "output_type": "display_data",
          "data": {
            "text/plain": [
              "<Figure size 640x480 with 1 Axes>"
            ],
            "image/png": "[encoded data removed]"
          },
          "metadata": {}
        },
        {
          "output_type": "stream",
          "name": "stdout",
          "text": [
            " \n",
            "Code test passed\n",
            "Go on to the next step\n"
          ]
        }
      ]
    },
    {
      "cell_type": "markdown",
      "metadata": {
        "id": "s3z_zaNWlet8"
      },
      "source": [
        "# Step 4 - Monomials"
      ]
    },
    {
      "cell_type": "markdown",
      "metadata": {
        "id": "BTOGQIpElet-"
      },
      "source": [
        "A <i>monomial</i> means \"one thing\" or one term. In a math equation, each term has a sign, a coefficient, and a variable to an exponent. Here are some examples: In the term -3x<sup>2</sup> you can see that the sign is negative, the coefficient is 3, the variable is x, the exponent is 2. The term x also has all of these parts: the sign is positive, the coefficient is 1, the variable is x, and the exponent is 1. In the term 5, the sign is positive, the coefficient is 5, the variable is still x, and the exponent is zero (notice that you don't need to write some of these parts, like x<sup>0</sup>). You can use `sympy` to display monomials nicely. Just run the code to see how this looks.  "
      ]
    },
    {
      "cell_type": "code",
      "metadata": {
        "id": "oAPKmzeblet_",
        "colab": {
          "base_uri": "https://localhost:8080/",
          "height": 74
        },
        "outputId": "7b5336bb-1b9e-4605-8286-beff5cf0d659"
      },
      "source": [
        "from sympy import symbols, Eq\n",
        "\n",
        "x = symbols('x')\n",
        "eq1 = Eq(-2*x**3 , -16)\n",
        "display(eq1)\n",
        "\n",
        "\n",
        "# Just run this code\n",
        "import math_code_test_c as test\n",
        "test.step00()"
      ],
      "execution_count": 8,
      "outputs": [
        {
          "output_type": "display_data",
          "data": {
            "text/plain": [
              "Eq(-2*x**3, -16)"
            ],
            "text/latex": "$\\displaystyle - 2 x^{3} = -16$"
          },
          "metadata": {}
        },
        {
          "output_type": "stream",
          "name": "stdout",
          "text": [
            "Code test passed\n",
            "Go on to the next step\n"
          ]
        }
      ]
    },
    {
      "cell_type": "markdown",
      "metadata": {
        "id": "lnP9BOpPlhdK"
      },
      "source": [
        "# Step 5 - Polynomials"
      ]
    },
    {
      "cell_type": "markdown",
      "metadata": {
        "id": "ABF6PI7TlhdL"
      },
      "source": [
        "A \"monomial\" is one thing. A \"binomial\" is two things. A \"trinomial\" is three things. A \"polynomial\" is many things. In standard form, `x` is the variable; you put your terms in order from highest exponent to lowest; refer to the coefficients with letters in alphabetical order; and set all of this equal to `y` (because it is a function that you can graph). Example: y = ax<sup>4</sup> + bx<sup>3</sup> + cx<sup>2</sup> + dx + e <br>\n",
        "Write code to prompt for integer input and display a polynomial. Remember to use the `**` for exponents. Parts of this are already done for you."
      ]
    },
    {
      "cell_type": "code",
      "metadata": {
        "id": "USVAJRualhdL",
        "colab": {
          "base_uri": "https://localhost:8080/",
          "height": 178
        },
        "outputId": "5732f4b6-0555-4035-a20a-ca05f3bde542"
      },
      "source": [
        "from IPython.display import display, Math\n",
        "from sympy import *\n",
        "\n",
        "x,y = symbols('x y')\n",
        "\n",
        "a = int(input(\"Enter coefficient A: \"))\n",
        "b = int(input(\"Enter coefficient B: \"))\n",
        "c = int(input(\"Enter coefficient C: \"))\n",
        "d = int(input(\"Enter coefficient D: \"))\n",
        "# continue this to prompt for variables c and d\n",
        "\n",
        "# change the next line to display the full polynomial\n",
        "y = a*x**3 + b*x**2 + c*x + d\n",
        "\n",
        "print(\"Here is your equation:\")\n",
        "display(Math(\"y = \" + latex(y)))\n",
        "\n",
        "\n",
        "# Only change code above this line\n",
        "import math_code_test_c as test\n",
        "test.step05(In[-1].split('# Only change code above this line')[0])"
      ],
      "execution_count": 10,
      "outputs": [
        {
          "output_type": "stream",
          "name": "stdout",
          "text": [
            "Enter coefficient A: 1\n",
            "Enter coefficient B: 2\n",
            "Enter coefficient C: 2\n",
            "Enter coefficient D: 1\n",
            "Here is your equation:\n"
          ]
        },
        {
          "output_type": "display_data",
          "data": {
            "text/plain": [
              "<IPython.core.display.Math object>"
            ],
            "text/latex": "$\\displaystyle y = x^{3} + 2 x^{2} + 2 x + 1$"
          },
          "metadata": {}
        },
        {
          "output_type": "stream",
          "name": "stdout",
          "text": [
            " \n",
            "Code test passed\n",
            "Go on to the next step\n"
          ]
        }
      ]
    },
    {
      "cell_type": "markdown",
      "metadata": {
        "id": "yoavB8H_ljVn"
      },
      "source": [
        "# Step 6 - Interactive Polynomial Graph"
      ]
    },
    {
      "cell_type": "markdown",
      "metadata": {
        "id": "3yk-TKO6ljVo"
      },
      "source": [
        "For this polynomial, y = ax<sup>2</sup> + bx + c, you can move the sliders to adjust the coefficients and see how that affects the graph. Notice how the `f()` function takes two arguments and the `interactive()` function defines two sliders. Run this code and interact with it. Then add the third coefficient (\"c\") by changing three things: the `def` line so that the function takes three arguments, the `plt.plot` line so that it includes \"+ c\", and the `interactive` line to include a third slider."
      ]
    },
    {
      "cell_type": "code",
      "metadata": {
        "id": "sOecWXLOljVo",
        "colab": {
          "base_uri": "https://localhost:8080/",
          "height": 583,
          "referenced_widgets": [
            "c90486eb7bc040828c4239085b86fc98",
            "faffc6d7a826480fa6cb3b972eec0318",
            "9f4a287c42734519be4ff129c6fb4357",
            "679537f08826426ea82ae811532162c9",
            "093faeea094d42a7aeef014f312f5061",
            "7ef59f405c3a47769005ef7a039f7abb",
            "f338444e54004ca89bfebabfcdfeb96e",
            "612a83d091cc4d3e9a0198823dc5bde1",
            "8b7cb0524941458a8fcd808aa01cbcfc",
            "e40a932f09544cff88c8e061ff727dd2",
            "0c63143171614ecda3c327158a553397",
            "23b92ccd0bed4b518368dc8e949cec64",
            "884756b93c02415c92c8e35793d7b724"
          ]
        },
        "outputId": "9b2e6c34-81a6-4503-ee7a-bb2b1ceabdd6"
      },
      "source": [
        "%matplotlib inline\n",
        "from ipywidgets import interactive\n",
        "import matplotlib.pyplot as plt\n",
        "import numpy as np\n",
        "\n",
        "# Change the next line:\n",
        "def f(a, b, c):\n",
        "    plt.axis([-10,10,-10,10]) # window size\n",
        "    plt.plot([-10,10],[0,0],'k') # blue x axis\n",
        "    plt.plot([0,0],[-10,10], 'k') # blue y axis\n",
        "    x = np.linspace(-10, 10, 200)\n",
        "    plt.plot(x, a*x**2+b*x+c) # Change this line\n",
        "    plt.show()\n",
        "\n",
        "# Change the next line:\n",
        "interactive_plot = interactive(f, a=(-9, 9), b=(-9, 9), c=(-9, 9))\n",
        "display(interactive_plot)\n",
        "\n",
        "\n",
        "# Only change code above this line\n",
        "import math_code_test_c as test\n",
        "test.step06(In[-1].split('# Only change code above this line')[0])"
      ],
      "execution_count": 11,
      "outputs": [
        {
          "output_type": "display_data",
          "data": {
            "text/plain": [
              "interactive(children=(IntSlider(value=0, description='a', max=9, min=-9), IntSlider(value=0, description='b', …"
            ],
            "application/vnd.jupyter.widget-view+json": {
              "version_major": 2,
              "version_minor": 0,
              "model_id": "c90486eb7bc040828c4239085b86fc98"
            }
          },
          "metadata": {}
        },
        {
          "output_type": "stream",
          "name": "stdout",
          "text": [
            " \n",
            "Code test passed\n",
            "Go on to the next step\n"
          ]
        }
      ]
    },
    {
      "cell_type": "markdown",
      "metadata": {
        "id": "MlRfYVIylkQf"
      },
      "source": [
        "# Step 7 - Exponential Functions"
      ]
    },
    {
      "cell_type": "markdown",
      "metadata": {
        "id": "H16dtXc0lkQg"
      },
      "source": [
        "The general formula for an `exponential function` is $y = a*b^{x}$ (where `a` and `b` are constants and `x` is the variable in the exponent). The shape of exponential graphs, especially when not drawn to scale, are very consistent, so the numerical values are more important to calculate. Things that grow exponentially include populations, investments, and other \"percent increase\" situations. Run this code and use the sliders to see the slight changes. Notice the scale. Then change the slider so that `a` has negative values from -9 to -1 and see how that changes the graph."
      ]
    },
    {
      "cell_type": "code",
      "metadata": {
        "id": "8KIMFu7LlkQg",
        "colab": {
          "base_uri": "https://localhost:8080/",
          "height": 551,
          "referenced_widgets": [
            "f595e2fc36d3446d8a031a1716e4d6a8",
            "074879f6d2ab4f629e4314e79e48ef76",
            "f42942f50f61405abe1af7bc6849c9c8",
            "307f1ed6e4c04f87a131da38283717b6",
            "ab169fb924184e078c16a2c69f099de0",
            "eb6da6f494e54c2099554d9027a5d5ae",
            "2f470cba1a3143458686cb0f9fd907b2",
            "b4c2146e4b9b4bc188d93120b0834f89",
            "c779d013a9304cb9b78e5b317c7c4b2c",
            "937aced47093426b8c0885f28a3236c5"
          ]
        },
        "outputId": "e239ea73-667e-4706-9347-1e02b815e2e7"
      },
      "source": [
        "%matplotlib inline\n",
        "from ipywidgets import interactive\n",
        "import matplotlib.pyplot as plt\n",
        "import numpy as np\n",
        "\n",
        "xmin = -10\n",
        "xmax = 10\n",
        "ymin = -100\n",
        "ymax = 100\n",
        "\n",
        "def f(a, b):\n",
        "    plt.axis([xmin,xmax,ymin,ymax]) # window size\n",
        "    plt.plot([xmin,xmax],[0,0],'k') # x axis\n",
        "    plt.plot([0,0],[ymin,ymax], 'k') # y axis\n",
        "    x = np.linspace(xmin, xmax, 1000)\n",
        "    plt.plot(x, a*b**x)\n",
        "    plt.show()\n",
        "\n",
        "# Only change the next line:\n",
        "interactive_plot = interactive(f, a=(-9, -1), b=(1, 9))\n",
        "display(interactive_plot)\n",
        "\n",
        "\n",
        "# Only change code above this line\n",
        "import math_code_test_c as test\n",
        "test.step07(In[-1].split('# Only change code above this line')[0])"
      ],
      "execution_count": 13,
      "outputs": [
        {
          "output_type": "display_data",
          "data": {
            "text/plain": [
              "interactive(children=(IntSlider(value=-5, description='a', max=-1, min=-9), IntSlider(value=5, description='b'…"
            ],
            "application/vnd.jupyter.widget-view+json": {
              "version_major": 2,
              "version_minor": 0,
              "model_id": "f595e2fc36d3446d8a031a1716e4d6a8"
            }
          },
          "metadata": {}
        },
        {
          "output_type": "stream",
          "name": "stdout",
          "text": [
            " \n",
            "Code test passed\n",
            "Go on to the next step\n"
          ]
        }
      ]
    },
    {
      "cell_type": "markdown",
      "metadata": {
        "id": "NGH1FcttllvS"
      },
      "source": [
        "# Step 8 - Percent Increase"
      ]
    },
    {
      "cell_type": "markdown",
      "metadata": {
        "id": "KLKYiioGllvT"
      },
      "source": [
        "One formula for calculating a percent increase is <b>A = P(1 + r)<sup>t</sup></b> where `A` would be the `y` value on a graph and `t` would be the `x` value. `A` is the <i>annuity</i>, which is the amount you have at the end. `P` is the <i>principle</i>, which is the amount you have at the beginning. `R` (usually not capitalized) is the <i>rate</i>, a percent converted to a decimal. The exponent `t` represents <i>time</i>, usually in years. The code already prompts for `P`, `r` and `t`, so use those variables to calculate the annuity value. "
      ]
    },
    {
      "cell_type": "code",
      "metadata": {
        "id": "Vkp6zmxIllvT",
        "colab": {
          "base_uri": "https://localhost:8080/"
        },
        "outputId": "01f8d695-20ed-4b88-ad8b-e1be54bd04da"
      },
      "source": [
        "p = float(input(\"Starting amount = \"))\n",
        "r = float(input(\"Enter the percentage rate, converted to a decimal: \"))\n",
        "t = float(input(\"How many years will this investment grow? \"))\n",
        "\n",
        "# Change the next line to calculate the annuity\n",
        "a = p*(1+r)**t\n",
        "\n",
        "print(\"The annuity is \", a)\n",
        "\n",
        "\n",
        "# Only change code above this line\n",
        "import math_code_test_c as test\n",
        "test.step08(In[-1].split('# Only change code above this line')[0])"
      ],
      "execution_count": 14,
      "outputs": [
        {
          "output_type": "stream",
          "name": "stdout",
          "text": [
            "Starting amount = 2\n",
            "Enter the percentage rate, converted to a decimal: 1\n",
            "How many years will this investment grow? 3\n",
            "The annuity is  16.0\n",
            " \n",
            "Code test passed\n",
            "Go on to the next step\n"
          ]
        }
      ]
    },
    {
      "cell_type": "markdown",
      "metadata": {
        "id": "Sx0kwIdalmmY"
      },
      "source": [
        "# Step 9 - Percent Decrease"
      ]
    },
    {
      "cell_type": "markdown",
      "metadata": {
        "id": "Wx7fXQDKlmmZ"
      },
      "source": [
        "The percent decrease formula is very similar, except you subtract the rate, so the formula is <b>A = P(1 - r)<sup>t</sup></b>. Some things that decrease by a percent include car values, decay of some elements, and sales discounts. Use the existing variables to calculate the final value (`a`). "
      ]
    },
    {
      "cell_type": "code",
      "metadata": {
        "id": "zJmQoa6YlmmZ",
        "colab": {
          "base_uri": "https://localhost:8080/"
        },
        "outputId": "35e3af0e-41c4-4f54-8e83-547f4b9b4c91"
      },
      "source": [
        "p = float(input(\"Starting amount = \"))\n",
        "r = float(input(\"Enter the percentage rate, converted to a decimal: \"))\n",
        "t = float(input(\"How many years will this decrease continue? \"))\n",
        "\n",
        "# Change the next line to calculate the final amount\n",
        "a = p*(1-r)**t\n",
        "\n",
        "print(\"The final amount is \", a)\n",
        "\n",
        "# Only change code above this line\n",
        "import math_code_test_c as test\n",
        "test.step09(In[-1].split('# Only change code above this line')[0])"
      ],
      "execution_count": 15,
      "outputs": [
        {
          "output_type": "stream",
          "name": "stdout",
          "text": [
            "Starting amount = 2\n",
            "Enter the percentage rate, converted to a decimal: 1\n",
            "How many years will this decrease continue? 3\n",
            "The final amount is  0.0\n",
            " \n",
            "Code test passed\n",
            "Go on to the next step\n"
          ]
        }
      ]
    },
    {
      "cell_type": "markdown",
      "source": [
        "#Step 10 - Compound Interest"
      ],
      "metadata": {
        "id": "S-DVSzwDvKvE"
      }
    },
    {
      "cell_type": "markdown",
      "source": [
        "When you use percent increase formulas for money in the bank, it's called <i>compound interest</i>. The amount of money you earn beyond the original principle is the interest. When the bank calculates the interest and adds it to the principle, that process is called <i>compounding</i> and it can happen any number of times per year. The formula is <b> A = P(1 + $\\frac{r}{n}$)<sup>nt</sup></b> where <i>n</i> is the number of times the bank compounds the money per year. Notice that if n = 1 then this formula is the same as the formula from an earlier step. Write the code to calculate the annuity (hint: use extra parentheses). "
      ],
      "metadata": {
        "id": "qf181QFOvCgd"
      }
    },
    {
      "cell_type": "code",
      "source": [
        "p = float(input(\"Starting amount: \"))\n",
        "r = float(input(\"Percentage rate, converted to a decimal: \"))\n",
        "t = float(input(\"Number of years this investment will grow: \"))\n",
        "n = int(input(\"Number of times compounded per year: \"))\n",
        "\n",
        "# Change the next line to calculate the annuity\n",
        "annuity = p*(1+(r/n))**(n*t)\n",
        "\n",
        "print(\"The annuity is \", annuity)\n",
        "\n",
        "\n",
        "# Only change code above this line\n",
        "import math_code_test_c as test\n",
        "test.step10(In[-1].split('# Only change code above this line')[0])"
      ],
      "metadata": {
        "id": "O0FAXixVvGXh",
        "colab": {
          "base_uri": "https://localhost:8080/"
        },
        "outputId": "98f83876-03cd-4815-80e7-89e7b0a462a8"
      },
      "execution_count": 17,
      "outputs": [
        {
          "output_type": "stream",
          "name": "stdout",
          "text": [
            "Starting amount: 2\n",
            "Percentage rate, converted to a decimal: 1\n",
            "Number of years this investment will grow: 3\n",
            "Number of times compounded per year: 2\n",
            "The annuity is  22.78125\n",
            " \n",
            "Code test passed\n",
            "Go on to the next step\n"
          ]
        }
      ]
    },
    {
      "cell_type": "markdown",
      "metadata": {
        "id": "H6LTAPYplxvi"
      },
      "source": [
        "# Step 11 - Continuous Growth"
      ]
    },
    {
      "cell_type": "markdown",
      "metadata": {
        "id": "5oRPxD6olxvi"
      },
      "source": [
        "In the first formula, A = P(1 + r)<sup>t</sup>, money is compounded annually.<br>\n",
        "In the second formula, A = P(1 + $\\frac{r}{n})^{nt}$, money is compounded `n` times per year.<br>\n",
        "As `n` gets to be a really big number, you get a different formula, A = Pe$^{rt}$, for continuous growth.<br>\n",
        "In this formula, `e` is a constant, about equal to 2.718281828. The following code already prompts for the four variables once. Use those variables to compare the annuity from the three formulas. Notice you need to `import math` to use `math.e` (the best approximation of e)."
      ]
    },
    {
      "cell_type": "code",
      "metadata": {
        "id": "kf3Q0Yg7lxvk",
        "colab": {
          "base_uri": "https://localhost:8080/"
        },
        "outputId": "b9051d83-7c5c-4e5f-ebb9-0ac2fc818a0c"
      },
      "source": [
        "import math\n",
        "\n",
        "p = float(input(\"Principle: \"))\n",
        "r = float(input(\"Rate: \"))\n",
        "t = int(input(\"Time: \"))\n",
        "n = int(input(\"N: \"))\n",
        "\n",
        "# Only change the following three formulas:\n",
        "a_annual = p*(1+r)**t\n",
        "a_n_times = p*(1+r/n)**(n*t)\n",
        "a_continuous = p*math.e**(r*t) # use math.e in this formula\n",
        "\n",
        "# Only change the code above this line\n",
        "\n",
        "print(\"Compounded annually, anuity = \", a_annual)\n",
        "print(\"Compounded \", n, \"times per year, anuity = \", a_n_times)\n",
        "print(\"Compounded continuously, anuity = \", a_continuous)\n",
        "\n",
        "\n",
        "# Only change code above this line\n",
        "import math_code_test_c as test\n",
        "test.step11(In[-1].split('# Only change code above this line')[0])"
      ],
      "execution_count": 20,
      "outputs": [
        {
          "output_type": "stream",
          "name": "stdout",
          "text": [
            "Principle: 2\n",
            "Rate: 3\n",
            "Time: 2\n",
            "N: 2\n",
            "Compounded annually, anuity =  32.0\n",
            "Compounded  2 times per year, anuity =  78.125\n",
            "Compounded continuously, anuity =  806.85758698547\n",
            " \n",
            "Code test passed\n",
            "Go on to the next step\n"
          ]
        }
      ]
    },
    {
      "cell_type": "markdown",
      "metadata": {
        "id": "iaEBltZXln-Q"
      },
      "source": [
        "# Step 12 - Investments"
      ]
    },
    {
      "cell_type": "markdown",
      "source": [
        "If you have an investment where you contrubute money every month and the value also increases by a consistent percentage, you can create a loop to calculate the accumulated value. In each iteration, use the <i>simple interest</i> formula: interest = principle * rate * time. (Hint: for one month, t = $\\frac{1}{12}$ or you can just divide by 12.)"
      ],
      "metadata": {
        "id": "JTQ9uZw3UeGT"
      }
    },
    {
      "cell_type": "code",
      "metadata": {
        "id": "t7sRzH5Oln-R",
        "colab": {
          "base_uri": "https://localhost:8080/"
        },
        "outputId": "59cbd6e2-2b5e-4dd2-8d92-62b5ea9ff7fe"
      },
      "source": [
        "p = float(input(\"Starting amount: \"))\n",
        "r = float(input(\"Annual percentage rate: \"))\n",
        "t = int(input(\"Number of years: \"))\n",
        "monthly = float(input(\"Monthly contribution: \"))\n",
        "\n",
        "# Hint: keep updating this annuity variable in the loop\n",
        "annuity = p \n",
        "\n",
        "# Each iteration of the loop represents one month\n",
        "for a in range(12*t):\n",
        "    annuity = annuity + monthly\n",
        "    # Change the next line to calculate the interest\n",
        "    interest = annuity * r / 12\n",
        "    annuity = annuity + interest\n",
        "\n",
        "# Keep this line:\n",
        "print(\"Annuity = \", annuity)\n",
        "\n",
        "\n",
        "# Only change code above this line\n",
        "import math_code_test_c as test\n",
        "test.step12(p,r,t,monthly,annuity)"
      ],
      "execution_count": 22,
      "outputs": [
        {
          "output_type": "stream",
          "name": "stdout",
          "text": [
            "Starting amount: 2000\n",
            "Annual percentage rate: 1.1\n",
            "Number of years: 3\n",
            "Monthly contribution: 200\n",
            "Annuity =  100632.15524292759\n",
            " \n",
            "Code test passed\n",
            "Go on to the next step\n"
          ]
        }
      ]
    },
    {
      "cell_type": "markdown",
      "metadata": {
        "id": "l5GwlqRdlpEu"
      },
      "source": [
        "# Step 13 - Mortgage Payments"
      ]
    },
    {
      "cell_type": "markdown",
      "metadata": {
        "id": "50OH4hj8lpEv"
      },
      "source": [
        "When borrowing a large amount of money over a long period of time, the formula to calculate monthly payments gets complicated. Here it is:<br>\n",
        " monthly payment = P$\\frac{\\frac{r}{12}(1 + \\frac{r}{12})^{12t}}{(1 + \\frac{r}{12})^{12t} - 1}$ where, as usual, `P` is the principle, `r` is the annual interest rate (as a decimal), and  `t` is the time in years. Write the code to prompt for these variables and calculate the monthly payment. Hint: Use other variables and do this in steps."
      ]
    },
    {
      "cell_type": "code",
      "metadata": {
        "id": "E5X8_WbnlpEv",
        "colab": {
          "base_uri": "https://localhost:8080/"
        },
        "outputId": "55e2d2a5-8301-4db5-9bb2-854467a53d46"
      },
      "source": [
        "p = float(input(\"Amount borrowed: \"))\n",
        "r = float(input(\"Annual percentage rate: \"))\n",
        "t = float(input(\"Number of years: \"))\n",
        "\n",
        "# Write your code here and change the pmt variable\n",
        "\n",
        "pmt = p*((r/12)*(1+r/12)**(12*t))/((1+r/12)**(12*t)-1)\n",
        "\n",
        "\n",
        "print(\"Monthly payment = $\", pmt)\n",
        "\n",
        "\n",
        "# Only change code above this line\n",
        "import math_code_test_c as test\n",
        "test.step13(p,r,t,pmt)"
      ],
      "execution_count": 23,
      "outputs": [
        {
          "output_type": "stream",
          "name": "stdout",
          "text": [
            "Amount borrowed: 2\n",
            "Annual percentage rate: 3\n",
            "Number of years: 2\n",
            "Monthly payment = $ 0.5023723865200214\n",
            " \n",
            "Code test passed\n",
            "Go on to the next step\n"
          ]
        }
      ]
    },
    {
      "cell_type": "markdown",
      "metadata": {
        "id": "8vdTo36Pl0yv"
      },
      "source": [
        "# Step 14 - Exponents and Logarithms"
      ]
    },
    {
      "cell_type": "markdown",
      "metadata": {
        "id": "gyMju8CVl0yw"
      },
      "source": [
        "Exponential functions and logarithmic functions are inverses of each other. Here is an example: <b>2<sup>4</sup> = 16</b> and <b>log<sub>2</sub>16 = 4</b>. Both have the same information rearranged in different ways. If you had 2<sup>4</sup> = x you would be able to do that easily, but if you had 2<sup>x</sup> = 16 it would be more difficult. You could write that last equation as a logarithm: log<sub>2</sub>16 = x. In Python, you would write this as `math.log(16,2)`. In both cases, you would read it as \"the log, base 2, of 16\" and the answer would be an exponent. The logarithm is especially useful when the exponent is not a nice integer. Write code to prompt for the base and the result, then use logarithms to calculate the exponent."
      ]
    },
    {
      "cell_type": "code",
      "metadata": {
        "id": "ehtA_ATbl0yw",
        "colab": {
          "base_uri": "https://localhost:8080/"
        },
        "outputId": "29ab5894-9257-4c5c-9e27-473f41c1d5f4"
      },
      "source": [
        "import math\n",
        "\n",
        "base = float(input(\"base: \"))\n",
        "result = float(input(\"result: \"))\n",
        "\n",
        "# Just change the next line:\n",
        "exp = math.log(result, base)\n",
        "\n",
        "print(\"exponent = \", exp)\n",
        "\n",
        "\n",
        "# Only change code above this line\n",
        "import math_code_test_c as test\n",
        "test.step14(In[-1].split('# Only change code above this line')[0])"
      ],
      "execution_count": 24,
      "outputs": [
        {
          "output_type": "stream",
          "name": "stdout",
          "text": [
            "base: 2\n",
            "result: 16\n",
            "exponent =  4.0\n",
            " \n",
            "Code test passed\n",
            "Go on to the next step\n"
          ]
        }
      ]
    },
    {
      "cell_type": "markdown",
      "metadata": {
        "id": "U_7bv7aG4UJe"
      },
      "source": [
        "# Step 15 - Natural Logs"
      ]
    },
    {
      "cell_type": "markdown",
      "metadata": {
        "id": "uKjifZw04UJe"
      },
      "source": [
        "If you know the rate, how long will it take for something to double? \n",
        "Start with the continuous growth formula:<br>\n",
        "A = Pe<sup>rt</sup><br>\n",
        "If annuity is two times the principle, divide both sides by P\n",
        "and get this:<br>\n",
        "2 = e<sup>rt</sup><br>\n",
        "Because of the base <i>e</i>, take the natural log of both sides and get this:<br>\n",
        "ln(2) = rt<br>\n",
        "Then divide by r to solve for t or divide by t to solve for r. In Python, use `math.log()` with one argument and no base to calculate natural log (which is a logarithm with base e). So the natural log of 2 is `math.log(2)`. Just run the code to see this example."
      ]
    },
    {
      "cell_type": "code",
      "metadata": {
        "id": "dM3RxByK4UJe",
        "colab": {
          "base_uri": "https://localhost:8080/"
        },
        "outputId": "9b84d419-57b7-4084-e1c7-7532c8729cfc"
      },
      "source": [
        "import math\n",
        "\n",
        "r = float(input(\"Enter the annual rate as a decimal: \\n\"))\n",
        "t = math.log(2)/r\n",
        "print(\"Your money will double in \", t, \" years\")\n",
        "\n",
        "\n",
        "# Just run this code\n",
        "import math_code_test_c as test\n",
        "test.step00()"
      ],
      "execution_count": 25,
      "outputs": [
        {
          "output_type": "stream",
          "name": "stdout",
          "text": [
            "Enter the annual rate as a decimal: \n",
            "1.2\n",
            "Your money will double in  0.5776226504666211  years\n",
            "Code test passed\n",
            "Go on to the next step\n"
          ]
        }
      ]
    },
    {
      "cell_type": "markdown",
      "metadata": {
        "id": "B7DOz9nh4XAb"
      },
      "source": [
        "# Step 16 - Common Logs"
      ]
    },
    {
      "cell_type": "markdown",
      "metadata": {
        "id": "MD3dH5yF4XAb"
      },
      "source": [
        "The <i>common log</i> is base 10, because that is our number system. Run this code a few times to see how the exponents relate to moving the decimal point to get the resulting number. Notice the floor function. Then take out the floor function to see the exact logarithm."
      ]
    },
    {
      "cell_type": "code",
      "metadata": {
        "id": "n390hG0GcEXI",
        "colab": {
          "base_uri": "https://localhost:8080/"
        },
        "outputId": "6e69f864-49bb-4c20-e5f6-d0c1cc3eb6b5"
      },
      "source": [
        "import math\n",
        "\n",
        "n = input('Enter a number with several digits or several decimal places: ')\n",
        "n = float(n)\n",
        "\n",
        "\n",
        "# Rund the code then change the next line:\n",
        "exp = math.log(n, 10)\n",
        "\n",
        "# This avoids a weird Python quirk:\n",
        "if n==1000:\n",
        "    exp = 3;\n",
        "\n",
        "print(\"exponent = \", exp)\n",
        "\n",
        "\n",
        "# Only change code above this line\n",
        "import math_code_test_c as test\n",
        "test.step16(In[-1].split('# Only change code above this line')[0])"
      ],
      "execution_count": 27,
      "outputs": [
        {
          "output_type": "stream",
          "name": "stdout",
          "text": [
            "Enter a number with several digits or several decimal places: 3.141592654\n",
            "exponent =  0.4971498727508409\n",
            " \n",
            "Code test passed\n",
            "Go on to the next step\n"
          ]
        }
      ]
    },
    {
      "cell_type": "markdown",
      "metadata": {
        "id": "cqvLtj7t4VMN"
      },
      "source": [
        "# Step 17 - Scientific Notation"
      ]
    },
    {
      "cell_type": "markdown",
      "metadata": {
        "id": "-Uh4YmRt4VMN"
      },
      "source": [
        "<i>Scientific Notation</i> is a way of writing very large or very small numbers without all of the zeros or decimal places. For example, 45,000,000 could be written as 4.5 x 10<sup>7</sup> in scientific notation and 0.00000045 could be written as 4.5 x 10<sup>-7</sup>. The notation requires base 10, so it will always use the structure <b>n $*$ 10<sup>x</sup></b> where n is one digit then the decimal point. Change the code below to print each number in scientific notation. Determine the value of each variable by counting (not writing code). You will automate this process in the next step."
      ]
    },
    {
      "cell_type": "code",
      "metadata": {
        "id": "UyPF6dKz4VMO",
        "colab": {
          "base_uri": "https://localhost:8080/"
        },
        "outputId": "1b7c3d26-7a41-4040-c1fe-bea12ce12659"
      },
      "source": [
        "a = 156000000000\n",
        "b = 0.000000000413\n",
        "\n",
        "# Change the code below this line\n",
        "\n",
        "a1 = 1.56\n",
        "a2 = 11\n",
        "b1 = 4.13\n",
        "b2 = -10\n",
        "\n",
        "print(a, \" = \", a1, \"* 10^\", a2) \n",
        "\n",
        "print(b, \" = \", b1, \"* 10^\", b2) \n",
        "\n",
        "\n",
        "# Only change code above this line\n",
        "import math_code_test_c as test\n",
        "test.step17(b1,b2)"
      ],
      "execution_count": 29,
      "outputs": [
        {
          "output_type": "stream",
          "name": "stdout",
          "text": [
            "156000000000  =  1.56 * 10^ 11\n",
            "4.13e-10  =  4.13 * 10^ -10\n",
            " \n",
            "Code test passed\n",
            "Go on to the next step\n"
          ]
        }
      ]
    },
    {
      "cell_type": "markdown",
      "metadata": {
        "id": "GsLj1NhZl1ya"
      },
      "source": [
        "#Step 18 - Logs and Scientific Notation"
      ]
    },
    {
      "cell_type": "markdown",
      "metadata": {
        "id": "uhWbIGVml1yb"
      },
      "source": [
        "Writing code for scientific notation, you will make use of logarithms with base 10. Remember that scientific notation is in the form n $*$ 10<sup>x</sup> where `n` is one digit and then a decimal. To convert a number to scientific notation, take the log of the number and use the `floor()` function to get the expoenent (just as you did in a previous step). Divide the original number by 10 to that exponent and you get `n` (hint: dividing by 10<sup>x</sup> is the same as multiplying by 10<sup>-x</sup>). Rounding is usually necessary. Write the code to convert numbers to scientific notation."
      ]
    },
    {
      "cell_type": "code",
      "metadata": {
        "id": "y8PXrFCYl1yb",
        "colab": {
          "base_uri": "https://localhost:8080/"
        },
        "outputId": "dd759177-f5f4-485e-e78c-f6dff61847dc"
      },
      "source": [
        "import math\n",
        "\n",
        "a = .00000000000234\n",
        "b = 12300000000000\n",
        "\n",
        "# Use these three lines as a model\n",
        "x1 = math.floor(math.log(a,10))\n",
        "n1 = round(a*10**(-x1),2)\n",
        "print(\"a = \", n1, \"* 10^\", x1)\n",
        "\n",
        "# Change the next two lines to match the model\n",
        "x2 = math.floor(math.log(b,10))\n",
        "n2 = round(b*10**(-x2),2)\n",
        "print(\"b = \", n2, \"* 10^\", x2)\n",
        "\n",
        "\n",
        "\n",
        "# Only change code above this line\n",
        "import math_code_test_c as test\n",
        "test.step18(In[-1].split('# Only change code above this line')[0])"
      ],
      "execution_count": 31,
      "outputs": [
        {
          "output_type": "stream",
          "name": "stdout",
          "text": [
            "a =  2.34 * 10^ -12\n",
            "b =  1.23 * 10^ 13\n",
            " \n",
            "Code test passed\n",
            "Go on to the next step\n"
          ]
        }
      ]
    },
    {
      "cell_type": "markdown",
      "metadata": {
        "id": "d7Lc9KfMYU8Y"
      },
      "source": [
        "# Step 19 - Scientific Notation Conversion"
      ]
    },
    {
      "cell_type": "markdown",
      "metadata": {
        "id": "21gdVKfeYc5R"
      },
      "source": [
        "Now ask for a number as input, and write the code to convert that number into scientific notation. You can re-use code you used in the previous step, using `n` and `x` as variables to print n * 10^x."
      ]
    },
    {
      "cell_type": "code",
      "metadata": {
        "id": "VkOkpmrP4XAb",
        "colab": {
          "base_uri": "https://localhost:8080/"
        },
        "outputId": "67ae7108-1de8-4340-853e-b5e408c3895a"
      },
      "source": [
        "import math\n",
        "\n",
        "a = float(input('Enter a number to convert to scientific notation: '))\n",
        "\n",
        "# write your code here\n",
        "x = math.floor(math.log(a,10))\n",
        "n = round(a*10**(-x),2)\n",
        "print(a, \" = \", n, \"* 10^\", x)\n",
        "\n",
        "# Only change code above this line\n",
        "import math_code_test_c as test\n",
        "test.step19(In[-1].split('# Only change code above this line')[0])"
      ],
      "execution_count": 32,
      "outputs": [
        {
          "output_type": "stream",
          "name": "stdout",
          "text": [
            "Enter a number to convert to scientific notation: 123150000\n",
            "123150000.0  =  1.23 * 10^ 8\n",
            " \n",
            "Code test passed\n",
            "Go on to the next step\n"
          ]
        }
      ]
    },
    {
      "cell_type": "markdown",
      "metadata": {
        "id": "VkD30ljxlyw9"
      },
      "source": [
        "# Step 20 - Graphing Exponents and Logs"
      ]
    },
    {
      "cell_type": "markdown",
      "metadata": {
        "id": "A7YL0fIdlyw-"
      },
      "source": [
        "When not writing code, the <i>natural log</i> is written as \"ln\" and it means a logarithm with base e. Like any pair of inverse functions, the line y = e<sup>x</sup> and the line y = ln(x) are mirrored over the line y = x.  Because of the `np.linspace()` function in this code, `np.log()` works, but `math.log()` does not work here. Both log() functions in Python use e as the base by default. When using the `numpy` library, use `np.log10()` for base 10, `np.log2()` for base 2, etc. Because log functions can only have positive x values, the np.linspace() function will define a positive range for the log() function. Run this code, then change the blue line function to graph y = 2<sup>x</sup> and change the green line function to graph y = log<sub>2</sub>x and notice the similarities between the graphs."
      ]
    },
    {
      "cell_type": "code",
      "metadata": {
        "id": "fJiDmoW1lyw_",
        "colab": {
          "base_uri": "https://localhost:8080/",
          "height": 487
        },
        "outputId": "6a7889be-8dab-4773-970a-2f8b49bfeabe"
      },
      "source": [
        "import matplotlib.pyplot as plt\n",
        "import numpy as np\n",
        "import math\n",
        "\n",
        "xmin = -10\n",
        "xmax = 10\n",
        "ymin = -10\n",
        "ymax = 10\n",
        "plt.axis([xmin,xmax,ymin,ymax]) # window size\n",
        "plt.plot([xmin,xmax],[0,0],'k') # x axis\n",
        "plt.plot([0,0],[ymin,ymax], 'k') # y axis\n",
        "\n",
        "# Same x values for two lines\n",
        "x1 = np.linspace(xmin, xmax, 1000)\n",
        "\n",
        "# Blue line for y = e^x \n",
        "plt.plot(x1, 2**x1, 'b')  # Change this line\n",
        "\n",
        "# Red line for y = x\n",
        "plt.plot(x1, x1, 'r')\n",
        "\n",
        "# Different x values for y = log(x) because x > 0\n",
        "x2 = np.linspace(.001, xmax, 500)\n",
        "\n",
        "# Green line for y = log(x)\n",
        "plt.plot(x2, np.log2(x2), 'g')  # Change this line\n",
        "\n",
        "plt.show()\n",
        "\n",
        "\n",
        "# Only change code above this line\n",
        "import math_code_test_c as test\n",
        "test.step20(In[-1].split('# Only change code above this line')[0])"
      ],
      "execution_count": 34,
      "outputs": [
        {
          "output_type": "display_data",
          "data": {
            "text/plain": [
              "<Figure size 640x480 with 1 Axes>"
            ],
            "image/png": "[encoded data removed]"
          },
          "metadata": {}
        },
        {
          "output_type": "stream",
          "name": "stdout",
          "text": [
            " \n",
            "Code test passed\n",
            "Go on to the next step\n"
          ]
        }
      ]
    },
    {
      "cell_type": "markdown",
      "metadata": {
        "id": "bJzxcKIfz8Qt"
      },
      "source": [
        "# Step 21 - Log Application - pH Scale"
      ]
    },
    {
      "cell_type": "markdown",
      "metadata": {
        "id": "pfF3voqSz8Q9"
      },
      "source": [
        "The pH scale, for measuring acids and bases, is a logarithmic scale. The negative log of the hydrogen concentration is the pH. Example: if the hydrogen concentration is .007 then that would be 7 * 10<sup>-3</sup> and therefore a pH of 3. Write the code to prompt for hydrogen concentration and then print the pH. Hint: the <i>ceiling</i> function (`math.ceil()`) works better than rounding here."
      ]
    },
    {
      "cell_type": "code",
      "metadata": {
        "id": "tepkvSubz8Q9",
        "colab": {
          "base_uri": "https://localhost:8080/"
        },
        "outputId": "874b08f4-4e7f-4f8f-df8d-dc263fd97096"
      },
      "source": [
        "import math\n",
        "\n",
        "decimal = float(input(\"Enter the hydrogen concentration as a decimal number: \"))\n",
        "\n",
        "# Write your code here\n",
        "h = math.ceil(-math.log(decimal, 10))\n",
        "\n",
        "print(\"pH = \", h)\n",
        "\n",
        "# Only change code above this line\n",
        "import math_code_test_c as test\n",
        "test.step21(In[-1].split('# Only change code above this line')[0])"
      ],
      "execution_count": 39,
      "outputs": [
        {
          "output_type": "stream",
          "name": "stdout",
          "text": [
            "Enter the hydrogen concentration as a decimal number: 0.007\n",
            "pH =  3\n",
            " \n",
            "Code test passed\n"
          ]
        }
      ]
    },
    {
      "cell_type": "markdown",
      "source": [
        "# Step 22 - Functions for the Project"
      ],
      "metadata": {
        "id": "8iWUAktvPLYp"
      }
    },
    {
      "cell_type": "markdown",
      "source": [
        "Define a function for calculating mortgage payments and a function for calculating investment balance. Use code you wrote in earlier steps. Each function should prompt for input and print the output."
      ],
      "metadata": {
        "id": "a9gRwbr-PGPC"
      }
    },
    {
      "cell_type": "code",
      "source": [
        "# Write your code here\n",
        "def mortgage():\n",
        "  p = float(input(\"Amount borrowed: \"))\n",
        "  r = float(input(\"Annual percentage rate: \"))\n",
        "  t = float(input(\"Number of years: \"))\n",
        "\n",
        "  pmt = p*((r/12)*(1+r/12)**(12*t))/((1+r/12)**(12*t)-1)\n",
        "\n",
        "  print(\"Monthly mortgage payment = $\", pmt)\n",
        "\n",
        "def invest():\n",
        "  p = float(input(\"Starting amount: \"))\n",
        "  r = float(input(\"Annual percentage rate: \"))\n",
        "  t = int(input(\"Number of years: \"))\n",
        "  monthly = float(input(\"Monthly contribution: \"))\n",
        "\n",
        "  annuity = p \n",
        "\n",
        "  for a in range(12*t):\n",
        "      annuity = annuity + monthly\n",
        "      interest = annuity * r / 12\n",
        "      annuity = annuity + interest\n",
        "\n",
        "  print(\"Annuity of investment balance = \", annuity)\n",
        "\n",
        "print(\"Mortgage Payments\")\n",
        "mortgage()\n",
        "print(\"Investment Balance\")\n",
        "invest()\n",
        "\n",
        "# This step does not have a test"
      ],
      "metadata": {
        "id": "neFvvCOzO_WB",
        "colab": {
          "base_uri": "https://localhost:8080/"
        },
        "outputId": "789fa9af-9ed2-4fac-bcfd-08189977f2e0"
      },
      "execution_count": 41,
      "outputs": [
        {
          "output_type": "stream",
          "name": "stdout",
          "text": [
            "Mortgage Payments\n",
            "Amount borrowed: 20000\n",
            "Annual percentage rate: 1.02\n",
            "Number of years: 2\n",
            "Monthly mortgage payment = $ 1979.3950918851174\n",
            "Investment Balance\n",
            "Starting amount: 20000\n",
            "Annual percentage rate: 1.05\n",
            "Number of years: 2\n",
            "Monthly contribution: 1000\n",
            "Annuity of investment balance =  230361.09152748165\n"
          ]
        }
      ]
    },
    {
      "cell_type": "markdown",
      "source": [
        "# Step 23 - More Functions"
      ],
      "metadata": {
        "id": "rzaQj8dEOfzb"
      }
    },
    {
      "cell_type": "markdown",
      "source": [
        "Create a function that produces an interactive polynomial graph (with sliders). Use code from an earlier step."
      ],
      "metadata": {
        "id": "C6OV8KzQOTS_"
      }
    },
    {
      "cell_type": "code",
      "source": [
        "# Write your code here\n",
        "%matplotlib inline\n",
        "from ipywidgets import interactive\n",
        "import matplotlib.pyplot as plt\n",
        "import numpy as np\n",
        "\n",
        "def f(a, b, c):\n",
        "    plt.axis([-10,10,-10,10])\n",
        "    plt.plot([-10,10],[0,0],'k')\n",
        "    plt.plot([0,0],[-10,10], 'k')\n",
        "    x = np.linspace(-10, 10, 200)\n",
        "    plt.plot(x, a*x**2+b*x+c)\n",
        "    plt.show()\n",
        "\n",
        "interactive_plot = interactive(f, a=(-9, 9), b=(-9, 9), c=(-9, 9))\n",
        "display(interactive_plot)\n",
        "\n",
        "# This step does not have a test"
      ],
      "metadata": {
        "id": "6cGh0vE1OYyC",
        "colab": {
          "base_uri": "https://localhost:8080/",
          "height": 531,
          "referenced_widgets": [
            "44d74dc82d634b759b00f92dd19044e7",
            "1ef92d6f03bf43489d765d0ec7220dbd",
            "be1df8b8a6b44a8c8b5732ea77d146ea",
            "4f356520c5074e648d820a27a182f0d6",
            "532d9afe881a4049b5c1b24872103ad0",
            "767fc33e83a5408abecfc55c0b10de38",
            "63a4937ff76844bdb724b972d26bb3f1",
            "fb36e50a195640a7b532e3426eb44051",
            "d79d6ba84b9b4fe8ab2629d9614b54e2",
            "e369b84350be46358c45b76d0a2aab90",
            "e1ffd0dc564b44e38d0169cc62b2a917",
            "7b37a5ffd6e240b7960b8170432a9e26",
            "a8bea3e137884602b7cc9a2e019a1725"
          ]
        },
        "outputId": "6937e268-e40d-49ed-9d15-69d0f0a4640d"
      },
      "execution_count": 42,
      "outputs": [
        {
          "output_type": "display_data",
          "data": {
            "text/plain": [
              "interactive(children=(IntSlider(value=0, description='a', max=9, min=-9), IntSlider(value=0, description='b', …"
            ],
            "application/vnd.jupyter.widget-view+json": {
              "version_major": 2,
              "version_minor": 0,
              "model_id": "44d74dc82d634b759b00f92dd19044e7"
            }
          },
          "metadata": {}
        }
      ]
    },
    {
      "cell_type": "markdown",
      "source": [
        "# Step 24 - New Function"
      ],
      "metadata": {
        "id": "UptjjiCOTSS2"
      }
    },
    {
      "cell_type": "markdown",
      "source": [
        "Create a function to print the time required for money to double, given the rate. Use the continuous growth formula from an earlier step."
      ],
      "metadata": {
        "id": "XKXNbHzGTKAp"
      }
    },
    {
      "cell_type": "code",
      "source": [
        "# Write your code here\n",
        "import math\n",
        "def double():\n",
        "  r = float(input(\"Enter the annual rate as a decimal: \\n\"))\n",
        "  t = math.log(2)/r\n",
        "  print(\"Your money will double in \", t, \" years\")\n",
        "\n",
        "double()\n",
        "\n",
        "# This step does not have a test"
      ],
      "metadata": {
        "id": "kWs_IpxrTYyl",
        "colab": {
          "base_uri": "https://localhost:8080/"
        },
        "outputId": "0b6fe701-ceb8-4208-dedc-13a2d49cba6d"
      },
      "execution_count": 43,
      "outputs": [
        {
          "output_type": "stream",
          "name": "stdout",
          "text": [
            "Enter the annual rate as a decimal: \n",
            "1.05\n",
            "Your money will double in  0.6601401719618526  years\n"
          ]
        }
      ]
    },
    {
      "cell_type": "markdown",
      "source": [
        "# Step 25 - Certification Project 3"
      ],
      "metadata": {
        "id": "CRa5i8s3UCuL"
      }
    },
    {
      "cell_type": "markdown",
      "source": [
        "Build a financial app that calculates all of the following:<br>\n",
        "<ul>\n",
        "<li>Mortgage payment - given principle, rate, time</li>\n",
        "<li>Retirement account balance at time of retirement</li>\n",
        "<li>Time required for money to double - given the rate</li>\n",
        "<li>Rate of growth - given starting value, time, and ending value</li>\n",
        "</ul>"
      ],
      "metadata": {
        "id": "nngVpvqeT4U7"
      }
    },
    {
      "cell_type": "code",
      "source": [
        "# Write your code here\n",
        "import math\n",
        "\n",
        "def menu():\n",
        "  print(\"[1] Mortgage payment\")\n",
        "  print(\"[2] Retirement account balance\")\n",
        "  print(\"[3] Time required for money to double\")\n",
        "  print(\"[4] Rate of growth\")\n",
        "  print(\"[0] Exit the program\")\n",
        "\n",
        "def mortgage():\n",
        "  p = float(input(\"Amount borrowed: \"))\n",
        "  r = float(input(\"Annual percentage rate: \"))\n",
        "  t = float(input(\"Number of years: \"))\n",
        "  pmt = p*((r/12)*(1+r/12)**(12*t))/((1+r/12)**(12*t)-1)\n",
        "  print(\"Monthly mortgage payment = $\", pmt)\n",
        "\n",
        "def retirement():\n",
        "  p = float(input(\"Starting amount: \"))\n",
        "  r = float(input(\"Annual percentage rate: \"))\n",
        "  t = int(input(\"Number of years: \"))\n",
        "  monthly = float(input(\"Monthly contribution: \"))\n",
        "  annuity = p \n",
        "  for a in range(12*t):\n",
        "      annuity = annuity + monthly\n",
        "      interest = annuity * r / 12\n",
        "      annuity = annuity + interest\n",
        "  print(\"Annuity = \", annuity)\n",
        "\n",
        "def double():\n",
        "  r = float(input(\"Enter the annual rate as a decimal: \\n\"))\n",
        "  t = math.log(2)/r\n",
        "  print(\"Your money will double in \", t, \" years\")\n",
        "\n",
        "def growth():\n",
        "  s = float(input(\"Starting value: \"))\n",
        "  e = float(input(\"Ending value: \"))\n",
        "  t = float(input(\"Time: \"))\n",
        "  r = (e/s)**(1/t)-1\n",
        "  print(\"The rate of growth = \", r)\n",
        "\n",
        "menu()\n",
        "option = int(input(\"Please enter an option: \"))\n",
        "\n",
        "while option != 0:\n",
        "  if option == 1:\n",
        "    mortgage()\n",
        "  elif option == 2:\n",
        "    retirement()\n",
        "  elif option == 3:\n",
        "    double()\n",
        "  elif option == 4:\n",
        "    growth()\n",
        "  else:\n",
        "    print(\"Invalid Input!\")\n",
        "  menu()\n",
        "  option = int(input(\"Please enter an option: \"))\n"
      ],
      "metadata": {
        "id": "fa2o--pDT-Sd",
        "colab": {
          "base_uri": "https://localhost:8080/"
        },
        "outputId": "e4e52f62-3373-4bec-c08a-dce9cf060b1c"
      },
      "execution_count": 44,
      "outputs": [
        {
          "name": "stdout",
          "output_type": "stream",
          "text": [
            "[1] Mortgage payment\n",
            "[2] Retirement account balance\n",
            "[3] Time required for money to double\n",
            "[4] Rate of growth\n",
            "[0] Exit the program\n",
            "Please enter an option: 1\n",
            "Amount borrowed: 2000\n",
            "Annual percentage rate: 1.005\n",
            "Number of years: 3\n",
            "Monthly mortgage payment = $ 177.30082844778076\n",
            "[1] Mortgage payment\n",
            "[2] Retirement account balance\n",
            "[3] Time required for money to double\n",
            "[4] Rate of growth\n",
            "[0] Exit the program\n",
            "Please enter an option: 2\n",
            "Starting amount: 2000\n",
            "Annual percentage rate: 1.005\n",
            "Number of years: 3\n",
            "Monthly contribution: 200\n",
            "Annuity =  80411.73877234972\n",
            "[1] Mortgage payment\n",
            "[2] Retirement account balance\n",
            "[3] Time required for money to double\n",
            "[4] Rate of growth\n",
            "[0] Exit the program\n",
            "Please enter an option: 3\n",
            "Enter the annual rate as a decimal: \n",
            "1.005\n",
            "Your money will double in  0.6896986871243237  years\n",
            "[1] Mortgage payment\n",
            "[2] Retirement account balance\n",
            "[3] Time required for money to double\n",
            "[4] Rate of growth\n",
            "[0] Exit the program\n",
            "Please enter an option: 4\n",
            "Starting value: 2000\n",
            "Ending value: 4000\n",
            "Time: 10.2\n",
            "The rate of growth =  0.07031779166884378\n",
            "[1] Mortgage payment\n",
            "[2] Retirement account balance\n",
            "[3] Time required for money to double\n",
            "[4] Rate of growth\n",
            "[0] Exit the program\n",
            "Please enter an option: 0\n"
          ]
        }
      ]
    }
  ]
}