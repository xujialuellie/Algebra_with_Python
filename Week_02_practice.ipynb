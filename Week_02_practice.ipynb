{
  "nbformat": 4,
  "nbformat_minor": 0,
  "metadata": {
    "colab": {
      "provenance": [],
      "include_colab_link": true
    },
    "kernelspec": {
      "name": "python3",
      "display_name": "Python 3"
    },
    "language_info": {
      "name": "python"
    }
  },
  "cells": [
    {
      "cell_type": "markdown",
      "metadata": {
        "id": "view-in-github",
        "colab_type": "text"
      },
      "source": [
        "<a href=\"https://colab.research.google.com/github/xujialuellie/Algebra_with_Python/blob/main/Week_02_practice.ipynb\" target=\"_parent\"><img src=\"https://colab.research.google.com/assets/colab-badge.svg\" alt=\"Open In Colab\"/></a>"
      ]
    },
    {
      "cell_type": "markdown",
      "source": [
        "Run this code to practice solving one-step and two-step problems. It will give you 12 practice problems. If you don't get them all correct, you can run this again to get more practice. Your answer can be a fraction, decimal, or whole number."
      ],
      "metadata": {
        "id": "afTMw7ajsmo4"
      }
    },
    {
      "cell_type": "code",
      "execution_count": null,
      "metadata": {
        "id": "cWodkgQDlKuV"
      },
      "outputs": [],
      "source": [
        "# converts string input (even fractions) to float\n",
        "def string_frac(in_string):\n",
        "    if \"/\" in in_string:\n",
        "        nd = in_string.split(\"/\")\n",
        "        n = float(nd[0])\n",
        "        d = float(nd[1])\n",
        "        ans = n/d\n",
        "        return ans\n",
        "    else:\n",
        "        ans = float(in_string)\n",
        "        return ans\n",
        "\n",
        "\n",
        "# Simplest one-step addition\n",
        "def one_step_add():\n",
        "    import random\n",
        "    # Display problem\n",
        "    a = random.randint(-4,10)\n",
        "    b = random.randint(2,24)\n",
        "    print(\"x + \", a, \" = \", b)\n",
        "    ans = float(input(\"x = \"))\n",
        "    answer = b-a\n",
        "    # Test input\n",
        "    if ans==answer:\n",
        "        print(\"Correct! \\n\")\n",
        "    else:\n",
        "        print(\"Try again\")\n",
        "        print(\"The correct answer is \", answer, \"\\n\")\n",
        "\n",
        "\n",
        "# One-step additon with negaive numbers\n",
        "def one_step_subtract():\n",
        "    import random\n",
        "    a = random.randint(-19,-1)\n",
        "    b = random.randint(2,24)\n",
        "    print(a, \" + x = \", b)\n",
        "    ans = float(input(\"x = \"))\n",
        "    # test\n",
        "    answer = b-a\n",
        "    if ans==answer:\n",
        "        print(\"Correct! \\n\")\n",
        "    else:\n",
        "        print(\"Try again\")\n",
        "        print(\"The correct answer is \", answer, \"\\n\")\n",
        "\n",
        "# One-step multiply\n",
        "def one_step_mult():\n",
        "    # Uses string_frac(<input string>)\n",
        "    import random\n",
        "    a = random.randint(1,11)\n",
        "    b = random.randint(2,24)\n",
        "    print(a, \"x = \", b)\n",
        "    print(\"Round your answer to two decimal places.\")\n",
        "    ans_in = (input(\"x = \"))\n",
        "    answer = round(b/a,2)\n",
        "    # test\n",
        "    if string_frac(ans_in)==answer:\n",
        "        print(\"Correct! \\n\")\n",
        "    else:\n",
        "        print(\"Try again\")\n",
        "        print(\"The correct answer is \", answer, \"\\n\")\n",
        "\n",
        "\n",
        "# One-step divide\n",
        "def one_step_div():\n",
        "    import random\n",
        "    a = random.randint(1,11)\n",
        "    b = random.randint(2,24)\n",
        "    print(\"x/\", a, \" = \", b)\n",
        "    ans = float(input(\"x = \"))\n",
        "    answer = b*a\n",
        "    # test\n",
        "    if ans==answer:\n",
        "        print(\"Correct! \\n\")\n",
        "    else:\n",
        "        print(\"Try again\")\n",
        "        print(\"The correct answer is \", answer, \"\\n\")\n",
        "\n",
        "\n",
        "# Two-step problems\n",
        "def two_step():\n",
        "    import random\n",
        "    # Uses string_frac()\n",
        "    a = random.randint(1,11)\n",
        "    b = random.randint(-7,12)\n",
        "    c = random.randint(2,36)\n",
        "    print(a, \"x + \", b, \" = \", c)\n",
        "    print(\"Round answer to two decimal places\")\n",
        "    ans_in = input(\"x = \")\n",
        "    answer = (c-b)/a\n",
        "    # test\n",
        "    if round(string_frac(ans_in),2)==round(answer,2):\n",
        "        print(\"Correct! \\n\")\n",
        "    else:\n",
        "        print(\"Try again\")\n",
        "        print(\"The correct answer is \", answer, \"\\n\")\n",
        "\n",
        "\n",
        "# test loop\n",
        "for a in range(2):\n",
        "    one_step_add()\n",
        "    one_step_subtract()\n",
        "    one_step_mult()\n",
        "    one_step_div()\n",
        "    two_step()\n",
        "    print(\" \")\n",
        "\n",
        "two_step()\n",
        "two_step()\n"
      ]
    }
  ]
}