{
  "nbformat": 4,
  "nbformat_minor": 0,
  "metadata": {
    "colab": {
      "provenance": [],
      "include_colab_link": true
    },
    "kernelspec": {
      "name": "python3",
      "display_name": "Python 3"
    },
    "language_info": {
      "name": "python"
    },
    "widgets": {
      "application/vnd.jupyter.widget-state+json": {
        "82bdc32bd3444656b33ef77e6b1a9df3": {
          "model_module": "@jupyter-widgets/controls",
          "model_name": "VBoxModel",
          "model_module_version": "1.5.0",
          "state": {
            "_dom_classes": [
              "widget-interact"
            ],
            "_model_module": "@jupyter-widgets/controls",
            "_model_module_version": "1.5.0",
            "_model_name": "VBoxModel",
            "_view_count": null,
            "_view_module": "@jupyter-widgets/controls",
            "_view_module_version": "1.5.0",
            "_view_name": "VBoxView",
            "box_style": "",
            "children": [
              "IPY_MODEL_30306d5dbaa640bfb4106d7e0d76179e",
              "IPY_MODEL_c955124bc10648cb822c997a1abe2163",
              "IPY_MODEL_620cf38063344f8f82d3b85da06c175e",
              "IPY_MODEL_69ae4277bc564fa3b7faed0ffbb86bb6"
            ],
            "layout": "IPY_MODEL_effeba1d7b044a4dab3a157b5179ec15"
          }
        },
        "30306d5dbaa640bfb4106d7e0d76179e": {
          "model_module": "@jupyter-widgets/controls",
          "model_name": "IntSliderModel",
          "model_module_version": "1.5.0",
          "state": {
            "_dom_classes": [],
            "_model_module": "@jupyter-widgets/controls",
            "_model_module_version": "1.5.0",
            "_model_name": "IntSliderModel",
            "_view_count": null,
            "_view_module": "@jupyter-widgets/controls",
            "_view_module_version": "1.5.0",
            "_view_name": "IntSliderView",
            "continuous_update": true,
            "description": "m",
            "description_tooltip": null,
            "disabled": false,
            "layout": "IPY_MODEL_98ba609e227148b1aaa37091cbfbb9d2",
            "max": 9,
            "min": -9,
            "orientation": "horizontal",
            "readout": true,
            "readout_format": "d",
            "step": 1,
            "style": "IPY_MODEL_554fd64a74734ad3bb441cc8dd5e37a0",
            "value": 5
          }
        },
        "c955124bc10648cb822c997a1abe2163": {
          "model_module": "@jupyter-widgets/controls",
          "model_name": "IntSliderModel",
          "model_module_version": "1.5.0",
          "state": {
            "_dom_classes": [],
            "_model_module": "@jupyter-widgets/controls",
            "_model_module_version": "1.5.0",
            "_model_name": "IntSliderModel",
            "_view_count": null,
            "_view_module": "@jupyter-widgets/controls",
            "_view_module_version": "1.5.0",
            "_view_name": "IntSliderView",
            "continuous_update": true,
            "description": "b",
            "description_tooltip": null,
            "disabled": false,
            "layout": "IPY_MODEL_9179e4972d1947358dc81cd64798d2e1",
            "max": 9,
            "min": -9,
            "orientation": "horizontal",
            "readout": true,
            "readout_format": "d",
            "step": 1,
            "style": "IPY_MODEL_9dd511d67c0d40eb928834acab2c1dcf",
            "value": -3
          }
        },
        "620cf38063344f8f82d3b85da06c175e": {
          "model_module": "@jupyter-widgets/controls",
          "model_name": "IntSliderModel",
          "model_module_version": "1.5.0",
          "state": {
            "_dom_classes": [],
            "_model_module": "@jupyter-widgets/controls",
            "_model_module_version": "1.5.0",
            "_model_name": "IntSliderModel",
            "_view_count": null,
            "_view_module": "@jupyter-widgets/controls",
            "_view_module_version": "1.5.0",
            "_view_name": "IntSliderView",
            "continuous_update": true,
            "description": "zoom",
            "description_tooltip": null,
            "disabled": false,
            "layout": "IPY_MODEL_59aa74e1140049e6beba6a1673f68407",
            "max": 100,
            "min": 1,
            "orientation": "horizontal",
            "readout": true,
            "readout_format": "d",
            "step": 1,
            "style": "IPY_MODEL_af74cff2d9434555a3e8d872b0ccc736",
            "value": 87
          }
        },
        "69ae4277bc564fa3b7faed0ffbb86bb6": {
          "model_module": "@jupyter-widgets/output",
          "model_name": "OutputModel",
          "model_module_version": "1.0.0",
          "state": {
            "_dom_classes": [],
            "_model_module": "@jupyter-widgets/output",
            "_model_module_version": "1.0.0",
            "_model_name": "OutputModel",
            "_view_count": null,
            "_view_module": "@jupyter-widgets/output",
            "_view_module_version": "1.0.0",
            "_view_name": "OutputView",
            "layout": "IPY_MODEL_d66e1334d45948e1a5bf229c025541f3",
            "msg_id": "",
            "outputs": [
              {
                "output_type": "display_data",
                "data": {
                  "text/plain": "<Figure size 432x288 with 1 Axes>",
                  "image/png": "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\n"
                },
                "metadata": {
                  "needs_background": "light"
                }
              }
            ]
          }
        },
        "effeba1d7b044a4dab3a157b5179ec15": {
          "model_module": "@jupyter-widgets/base",
          "model_name": "LayoutModel",
          "model_module_version": "1.2.0",
          "state": {
            "_model_module": "@jupyter-widgets/base",
            "_model_module_version": "1.2.0",
            "_model_name": "LayoutModel",
            "_view_count": null,
            "_view_module": "@jupyter-widgets/base",
            "_view_module_version": "1.2.0",
            "_view_name": "LayoutView",
            "align_content": null,
            "align_items": null,
            "align_self": null,
            "border": null,
            "bottom": null,
            "display": null,
            "flex": null,
            "flex_flow": null,
            "grid_area": null,
            "grid_auto_columns": null,
            "grid_auto_flow": null,
            "grid_auto_rows": null,
            "grid_column": null,
            "grid_gap": null,
            "grid_row": null,
            "grid_template_areas": null,
            "grid_template_columns": null,
            "grid_template_rows": null,
            "height": null,
            "justify_content": null,
            "justify_items": null,
            "left": null,
            "margin": null,
            "max_height": null,
            "max_width": null,
            "min_height": null,
            "min_width": null,
            "object_fit": null,
            "object_position": null,
            "order": null,
            "overflow": null,
            "overflow_x": null,
            "overflow_y": null,
            "padding": null,
            "right": null,
            "top": null,
            "visibility": null,
            "width": null
          }
        },
        "98ba609e227148b1aaa37091cbfbb9d2": {
          "model_module": "@jupyter-widgets/base",
          "model_name": "LayoutModel",
          "model_module_version": "1.2.0",
          "state": {
            "_model_module": "@jupyter-widgets/base",
            "_model_module_version": "1.2.0",
            "_model_name": "LayoutModel",
            "_view_count": null,
            "_view_module": "@jupyter-widgets/base",
            "_view_module_version": "1.2.0",
            "_view_name": "LayoutView",
            "align_content": null,
            "align_items": null,
            "align_self": null,
            "border": null,
            "bottom": null,
            "display": null,
            "flex": null,
            "flex_flow": null,
            "grid_area": null,
            "grid_auto_columns": null,
            "grid_auto_flow": null,
            "grid_auto_rows": null,
            "grid_column": null,
            "grid_gap": null,
            "grid_row": null,
            "grid_template_areas": null,
            "grid_template_columns": null,
            "grid_template_rows": null,
            "height": null,
            "justify_content": null,
            "justify_items": null,
            "left": null,
            "margin": null,
            "max_height": null,
            "max_width": null,
            "min_height": null,
            "min_width": null,
            "object_fit": null,
            "object_position": null,
            "order": null,
            "overflow": null,
            "overflow_x": null,
            "overflow_y": null,
            "padding": null,
            "right": null,
            "top": null,
            "visibility": null,
            "width": null
          }
        },
        "554fd64a74734ad3bb441cc8dd5e37a0": {
          "model_module": "@jupyter-widgets/controls",
          "model_name": "SliderStyleModel",
          "model_module_version": "1.5.0",
          "state": {
            "_model_module": "@jupyter-widgets/controls",
            "_model_module_version": "1.5.0",
            "_model_name": "SliderStyleModel",
            "_view_count": null,
            "_view_module": "@jupyter-widgets/base",
            "_view_module_version": "1.2.0",
            "_view_name": "StyleView",
            "description_width": "",
            "handle_color": null
          }
        },
        "9179e4972d1947358dc81cd64798d2e1": {
          "model_module": "@jupyter-widgets/base",
          "model_name": "LayoutModel",
          "model_module_version": "1.2.0",
          "state": {
            "_model_module": "@jupyter-widgets/base",
            "_model_module_version": "1.2.0",
            "_model_name": "LayoutModel",
            "_view_count": null,
            "_view_module": "@jupyter-widgets/base",
            "_view_module_version": "1.2.0",
            "_view_name": "LayoutView",
            "align_content": null,
            "align_items": null,
            "align_self": null,
            "border": null,
            "bottom": null,
            "display": null,
            "flex": null,
            "flex_flow": null,
            "grid_area": null,
            "grid_auto_columns": null,
            "grid_auto_flow": null,
            "grid_auto_rows": null,
            "grid_column": null,
            "grid_gap": null,
            "grid_row": null,
            "grid_template_areas": null,
            "grid_template_columns": null,
            "grid_template_rows": null,
            "height": null,
            "justify_content": null,
            "justify_items": null,
            "left": null,
            "margin": null,
            "max_height": null,
            "max_width": null,
            "min_height": null,
            "min_width": null,
            "object_fit": null,
            "object_position": null,
            "order": null,
            "overflow": null,
            "overflow_x": null,
            "overflow_y": null,
            "padding": null,
            "right": null,
            "top": null,
            "visibility": null,
            "width": null
          }
        },
        "9dd511d67c0d40eb928834acab2c1dcf": {
          "model_module": "@jupyter-widgets/controls",
          "model_name": "SliderStyleModel",
          "model_module_version": "1.5.0",
          "state": {
            "_model_module": "@jupyter-widgets/controls",
            "_model_module_version": "1.5.0",
            "_model_name": "SliderStyleModel",
            "_view_count": null,
            "_view_module": "@jupyter-widgets/base",
            "_view_module_version": "1.2.0",
            "_view_name": "StyleView",
            "description_width": "",
            "handle_color": null
          }
        },
        "59aa74e1140049e6beba6a1673f68407": {
          "model_module": "@jupyter-widgets/base",
          "model_name": "LayoutModel",
          "model_module_version": "1.2.0",
          "state": {
            "_model_module": "@jupyter-widgets/base",
            "_model_module_version": "1.2.0",
            "_model_name": "LayoutModel",
            "_view_count": null,
            "_view_module": "@jupyter-widgets/base",
            "_view_module_version": "1.2.0",
            "_view_name": "LayoutView",
            "align_content": null,
            "align_items": null,
            "align_self": null,
            "border": null,
            "bottom": null,
            "display": null,
            "flex": null,
            "flex_flow": null,
            "grid_area": null,
            "grid_auto_columns": null,
            "grid_auto_flow": null,
            "grid_auto_rows": null,
            "grid_column": null,
            "grid_gap": null,
            "grid_row": null,
            "grid_template_areas": null,
            "grid_template_columns": null,
            "grid_template_rows": null,
            "height": null,
            "justify_content": null,
            "justify_items": null,
            "left": null,
            "margin": null,
            "max_height": null,
            "max_width": null,
            "min_height": null,
            "min_width": null,
            "object_fit": null,
            "object_position": null,
            "order": null,
            "overflow": null,
            "overflow_x": null,
            "overflow_y": null,
            "padding": null,
            "right": null,
            "top": null,
            "visibility": null,
            "width": null
          }
        },
        "af74cff2d9434555a3e8d872b0ccc736": {
          "model_module": "@jupyter-widgets/controls",
          "model_name": "SliderStyleModel",
          "model_module_version": "1.5.0",
          "state": {
            "_model_module": "@jupyter-widgets/controls",
            "_model_module_version": "1.5.0",
            "_model_name": "SliderStyleModel",
            "_view_count": null,
            "_view_module": "@jupyter-widgets/base",
            "_view_module_version": "1.2.0",
            "_view_name": "StyleView",
            "description_width": "",
            "handle_color": null
          }
        },
        "d66e1334d45948e1a5bf229c025541f3": {
          "model_module": "@jupyter-widgets/base",
          "model_name": "LayoutModel",
          "model_module_version": "1.2.0",
          "state": {
            "_model_module": "@jupyter-widgets/base",
            "_model_module_version": "1.2.0",
            "_model_name": "LayoutModel",
            "_view_count": null,
            "_view_module": "@jupyter-widgets/base",
            "_view_module_version": "1.2.0",
            "_view_name": "LayoutView",
            "align_content": null,
            "align_items": null,
            "align_self": null,
            "border": null,
            "bottom": null,
            "display": null,
            "flex": null,
            "flex_flow": null,
            "grid_area": null,
            "grid_auto_columns": null,
            "grid_auto_flow": null,
            "grid_auto_rows": null,
            "grid_column": null,
            "grid_gap": null,
            "grid_row": null,
            "grid_template_areas": null,
            "grid_template_columns": null,
            "grid_template_rows": null,
            "height": null,
            "justify_content": null,
            "justify_items": null,
            "left": null,
            "margin": null,
            "max_height": null,
            "max_width": null,
            "min_height": null,
            "min_width": null,
            "object_fit": null,
            "object_position": null,
            "order": null,
            "overflow": null,
            "overflow_x": null,
            "overflow_y": null,
            "padding": null,
            "right": null,
            "top": null,
            "visibility": null,
            "width": null
          }
        }
      }
    }
  },
  "cells": [
    {
      "cell_type": "markdown",
      "metadata": {
        "id": "view-in-github",
        "colab_type": "text"
      },
      "source": [
        "<a href=\"https://colab.research.google.com/github/xujialuellie/Algebra_with_Python/blob/main/Week_07_xtra.ipynb\" target=\"_parent\"><img src=\"https://colab.research.google.com/assets/colab-badge.svg\" alt=\"Open In Colab\"/></a>"
      ]
    },
    {
      "cell_type": "markdown",
      "source": [
        "Shading and graphing inequalities"
      ],
      "metadata": {
        "id": "vdSbrlHgPKy0"
      }
    },
    {
      "cell_type": "code",
      "source": [
        "import matplotlib.pyplot as plt\n",
        "import numpy as np\n",
        "\n",
        "xmin = -10\n",
        "xmax = 10\n",
        "ymin = -10\n",
        "ymax = 10\n",
        "points = 2*(xmax-xmin)\n",
        "x = np.linspace(xmin,xmax,points)\n",
        "\n",
        "fig, ax = plt.subplots()\n",
        "plt.axis([xmin,xmax,ymin,ymax]) # window size\n",
        "plt.plot([xmin,xmax],[0,0],'b') # blue x axis\n",
        "plt.plot([0,0],[ymin,ymax], 'b') # blue y axis\n",
        "\n",
        "# line 1\n",
        "y1 = x+6\n",
        "plt.plot(x, y1,'-')\n",
        "plt.fill_between(x, y1, ymax, facecolor='red')\n",
        "\n",
        "# line 2\n",
        "y2 = x+3\n",
        "plt.plot(x, y2,'-')\n",
        "plt.fill_between(x, y2, y1, facecolor='yellow')\n",
        "\n",
        "# line 3\n",
        "y3 = x-1\n",
        "plt.plot(x, y3)\n",
        "plt.fill_between(x, y3, y2, facecolor='green')\n",
        "\n",
        "# line 4\n",
        "y4 = x-4\n",
        "plt.plot(x, y4)\n",
        "plt.fill_between(x, y4, y3, facecolor='blue')\n",
        "\n",
        "plt.show()\n",
        "\n"
      ],
      "metadata": {
        "id": "OhOPIc1UPGyE",
        "colab": {
          "base_uri": "https://localhost:8080/",
          "height": 269
        },
        "outputId": "30b01316-0835-4f3c-a9d3-e4948d76591c"
      },
      "execution_count": null,
      "outputs": [
        {
          "output_type": "display_data",
          "data": {
            "text/plain": [
              "<Figure size 432x288 with 1 Axes>"
            ],
            "image/png": "[encoded data removed]"
          },
          "metadata": {
            "needs_background": "light"
          }
        }
      ]
    },
    {
      "cell_type": "markdown",
      "source": [
        "Interactive graphs"
      ],
      "metadata": {
        "id": "YFY0C-M1Oq2G"
      }
    },
    {
      "cell_type": "code",
      "source": [
        "%matplotlib inline\n",
        "from ipywidgets import interactive\n",
        "import matplotlib.pyplot as plt\n",
        "import numpy as np\n",
        "\n",
        "# Define the graphing function\n",
        "def f(m, b, zoom):\n",
        "    xmin = -zoom\n",
        "    xmax = zoom\n",
        "    ymin = -zoom\n",
        "    ymax = zoom\n",
        "    points = 10*xmax-xmin\n",
        "    x = np.linspace(xmin, xmax, points)\n",
        "\n",
        "    plt.axis([xmin,xmax,ymin,ymax]) # window size\n",
        "    plt.plot([xmin,xmax],[0,0],'black') # black x axis\n",
        "    plt.plot([0,0],[ymin,ymax], 'black') # black y axis\n",
        "    \n",
        "    # Line 1\n",
        "    y1 = 3*x**2 - 4\n",
        "    \n",
        "    # Line 2\n",
        "    plt.plot(x, y1)\n",
        "    plt.show()\n",
        "    # plt.fill_between(x, y3, y2, facecolor='blue')\n",
        "\n",
        "# Set up the sliders\n",
        "interactive_plot = interactive(f, m=(-9, 9), b=(-9, 9), zoom=(1,100))\n",
        "interactive_plot\n",
        "\n"
      ],
      "metadata": {
        "id": "h8Zx8XEKOpmm",
        "colab": {
          "base_uri": "https://localhost:8080/",
          "height": 377,
          "referenced_widgets": [
            "82bdc32bd3444656b33ef77e6b1a9df3",
            "30306d5dbaa640bfb4106d7e0d76179e",
            "c955124bc10648cb822c997a1abe2163",
            "620cf38063344f8f82d3b85da06c175e",
            "69ae4277bc564fa3b7faed0ffbb86bb6",
            "effeba1d7b044a4dab3a157b5179ec15",
            "98ba609e227148b1aaa37091cbfbb9d2",
            "554fd64a74734ad3bb441cc8dd5e37a0",
            "9179e4972d1947358dc81cd64798d2e1",
            "9dd511d67c0d40eb928834acab2c1dcf",
            "59aa74e1140049e6beba6a1673f68407",
            "af74cff2d9434555a3e8d872b0ccc736",
            "d66e1334d45948e1a5bf229c025541f3"
          ]
        },
        "outputId": "919543da-53f9-4f99-e8d5-688f20740ffb"
      },
      "execution_count": null,
      "outputs": [
        {
          "output_type": "display_data",
          "data": {
            "text/plain": [
              "interactive(children=(IntSlider(value=0, description='m', max=9, min=-9), IntSlider(value=0, description='b', …"
            ],
            "application/vnd.jupyter.widget-view+json": {
              "version_major": 2,
              "version_minor": 0,
              "model_id": "82bdc32bd3444656b33ef77e6b1a9df3"
            }
          },
          "metadata": {}
        }
      ]
    },
    {
      "cell_type": "markdown",
      "source": [
        "Graphing weather data"
      ],
      "metadata": {
        "id": "jyrJX8ADT0Il"
      }
    },
    {
      "cell_type": "code",
      "source": [
        "!pip install meteostat\n"
      ],
      "metadata": {
        "id": "6W3y_P9NDost",
        "colab": {
          "base_uri": "https://localhost:8080/"
        },
        "outputId": "63ce9ab1-6c31-41a4-c952-ee3f13d0484f"
      },
      "execution_count": null,
      "outputs": [
        {
          "output_type": "stream",
          "name": "stdout",
          "text": [
            "Looking in indexes: https://pypi.org/simple, https://us-python.pkg.dev/colab-wheels/public/simple/\n",
            "Requirement already satisfied: meteostat in /usr/local/lib/python3.7/dist-packages (1.6.3)\n",
            "Requirement already satisfied: numpy in /usr/local/lib/python3.7/dist-packages (from meteostat) (1.21.6)\n",
            "Requirement already satisfied: pandas>=1.1 in /usr/local/lib/python3.7/dist-packages (from meteostat) (1.3.5)\n",
            "Requirement already satisfied: pytz in /usr/local/lib/python3.7/dist-packages (from meteostat) (2022.1)\n",
            "Requirement already satisfied: python-dateutil>=2.7.3 in /usr/local/lib/python3.7/dist-packages (from pandas>=1.1->meteostat) (2.8.2)\n",
            "Requirement already satisfied: six>=1.5 in /usr/local/lib/python3.7/dist-packages (from python-dateutil>=2.7.3->pandas>=1.1->meteostat) (1.15.0)\n"
          ]
        }
      ]
    },
    {
      "cell_type": "markdown",
      "source": [
        "Columns:<br>\n",
        "time, tavg, tmin, tmax, prcp, snow, wdir, wspd, wpgt, pres, tsun\t"
      ],
      "metadata": {
        "id": "7bLdApPhJV12"
      }
    },
    {
      "cell_type": "code",
      "execution_count": null,
      "metadata": {
        "id": "Q9vR8jWPC48h",
        "colab": {
          "base_uri": "https://localhost:8080/",
          "height": 291
        },
        "outputId": "8212f53e-a9be-4b43-d708-8b274656fdda"
      },
      "outputs": [
        {
          "output_type": "display_data",
          "data": {
            "text/plain": [
              "<Figure size 432x288 with 1 Axes>"
            ],
            "image/png": "[encoded data removed]"
          },
          "metadata": {
            "needs_background": "light"
          }
        }
      ],
      "source": [
        "# Import Meteostat library and dependencies\n",
        "from datetime import datetime\n",
        "import matplotlib.pyplot as plt\n",
        "from meteostat import Point, Daily\n",
        "\n",
        "# Documentation\n",
        "# https://dev.meteostat.net/python/daily.html#data-structure\n",
        "\n",
        "# Set time period\n",
        "start = datetime(2022, 1, 1)\n",
        "end = datetime(2022, 7, 31)\n",
        "\n",
        "# Create Point for Vancouver,BC or Philadelphia, PA\n",
        "#vancouver = Point(49.2497, -123.1193, 70)\n",
        "philly = Point(39.97,-75.13,25)\n",
        "\n",
        "# Get daily data for 2018\n",
        "data = Daily(philly, start, end)\n",
        "data = data.fetch()\n",
        "\n",
        "# Plot line chart including average, minimum and maximum temperature\n",
        "data.plot(y=['tavg', 'prcp','snow'])\n",
        "plt.show()\n"
      ]
    }
  ]
}