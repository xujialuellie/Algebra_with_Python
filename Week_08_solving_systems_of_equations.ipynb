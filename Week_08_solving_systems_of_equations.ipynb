{
  "nbformat": 4,
  "nbformat_minor": 0,
  "metadata": {
    "colab": {
      "provenance": [],
      "include_colab_link": true
    },
    "kernelspec": {
      "name": "python3",
      "display_name": "Python 3"
    },
    "language_info": {
      "name": "python"
    }
  },
  "cells": [
    {
      "cell_type": "markdown",
      "metadata": {
        "id": "view-in-github",
        "colab_type": "text"
      },
      "source": [
        "<a href=\"https://colab.research.google.com/github/xujialuellie/Algebra_with_Python/blob/main/Week_08_solving_systems_of_equations.ipynb\" target=\"_parent\"><img src=\"https://colab.research.google.com/assets/colab-badge.svg\" alt=\"Open In Colab\"/></a>"
      ]
    },
    {
      "cell_type": "markdown",
      "source": [
        "Simplest way to solve a system of equations. Set each equation equal to zero"
      ],
      "metadata": {
        "id": "7lwYtjDVo-P3"
      }
    },
    {
      "cell_type": "code",
      "execution_count": null,
      "metadata": {
        "colab": {
          "base_uri": "https://localhost:8080/"
        },
        "id": "sxXiPuS0gU3i",
        "outputId": "1fe20671-9fb9-4033-d146-3220a498377b"
      },
      "outputs": [
        {
          "output_type": "stream",
          "name": "stdout",
          "text": [
            "FiniteSet((-1, 3))\n"
          ]
        }
      ],
      "source": [
        "from sympy import *\n",
        "\n",
        "x,y = symbols('x y')\n",
        "\n",
        "# Equations set equal to zero\n",
        "first = 2*x + y - 1 \n",
        "second = x - 2*y + 7 \n",
        "\n",
        "# The solution\n",
        "print(linsolve([first, second], (x, y))) \n"
      ]
    },
    {
      "cell_type": "markdown",
      "source": [
        "Nicer looking output"
      ],
      "metadata": {
        "id": "bEob2sM-12VW"
      }
    },
    {
      "cell_type": "code",
      "source": [
        "from sympy import *\n",
        "\n",
        "x,y = symbols('x y')\n",
        "\n",
        "first = 2*x + y - 1 \n",
        "second = x - 2*y + 7 \n",
        "\n",
        "\n",
        "# parse finite set answer as coordinate pair\n",
        "solution = linsolve([first, second], (x, y)) \n",
        "x_solution = solution.args[0][0] \n",
        "y_solution = solution.args[0][1] \n",
        "\n",
        "# Print a coordinate pair\n",
        "print(\"(\", x_solution, \",\", y_solution, \")\") \n"
      ],
      "metadata": {
        "id": "9pYhrMOgg_go"
      },
      "execution_count": null,
      "outputs": []
    },
    {
      "cell_type": "markdown",
      "source": [
        "Solve and graph. Factor to change from \"`0 = `\" to \"`y = `\" preparing to graph "
      ],
      "metadata": {
        "id": "q4FlfI5cpqNi"
      }
    },
    {
      "cell_type": "code",
      "source": [
        "from sympy import *\n",
        "from sympy.plotting import plot\n",
        "from sympy import sqrt\n",
        "\n",
        "var('x y') \n",
        "\n",
        "# First equation set equal to zero, ready to solve\n",
        "first = -x**2 - y + 10\n",
        "#first = sqrt(x) - y\n",
        "\n",
        "#Second equation set equal to zero, ready to solve\n",
        "second = 2*x**2 - 2*y - 4\n",
        "#second = -x + 5 - y\n",
        "\n",
        "# Solve - can be linear or nonlinear equations\n",
        "solution = nonlinsolve([first, second], (x, y)) \n",
        "for a in range(len(solution.args)):\n",
        "    x_solution = solution.args[a][0] \n",
        "    y_solution = solution.args[a][1] \n",
        "    print(\"Solution = (\", x_solution, \",\", y_solution, \")\")\n",
        "\n",
        "# Sympy syntax for equation equal to zero, ready to factor\n",
        "y_first = Eq(first,0) \n",
        "\n",
        "# Sympy solve for y\n",
        "y1 = solve(y_first,y) \n",
        "\n",
        "# Same two steps for second equation\n",
        "y_second = Eq(second,0) \n",
        "y2 = solve(y_second,y)\n",
        "\n",
        "# Show factored results\n",
        "print(\"y = \", y1[0])\n",
        "print(\"y = \", y2[0])\n",
        "\n",
        "# Plot solution\n",
        "x = symbols('x')\n",
        "xmin = -10\n",
        "xmax = 10\n",
        "plot(y1[0], y2[0], (x,xmin,xmax))  \n",
        "\n"
      ],
      "metadata": {
        "id": "E4JCVuUKjluH",
        "colab": {
          "base_uri": "https://localhost:8080/",
          "height": 385
        },
        "outputId": "c2666605-5cba-491f-cd03-78bec0e8d203"
      },
      "execution_count": null,
      "outputs": [
        {
          "output_type": "stream",
          "name": "stdout",
          "text": [
            "Solution = ( sqrt(6) , 4 )\n",
            "Solution = ( -sqrt(6) , 4 )\n",
            "y =  10 - x**2\n",
            "y =  x**2 - 2\n"
          ]
        },
        {
          "output_type": "display_data",
          "data": {
            "text/plain": [
              "<Figure size 432x288 with 1 Axes>"
            ],
            "image/png": "[encoded data removed]"
          },
          "metadata": {
            "needs_background": "light"
          }
        },
        {
          "output_type": "execute_result",
          "data": {
            "text/plain": [
              "<sympy.plotting.plot.Plot at 0x7fb416ca9d50>"
            ]
          },
          "metadata": {},
          "execution_count": 16
        }
      ]
    },
    {
      "cell_type": "code",
      "source": [],
      "metadata": {
        "id": "EhBwXl9uVW6q"
      },
      "execution_count": null,
      "outputs": []
    }
  ]
}