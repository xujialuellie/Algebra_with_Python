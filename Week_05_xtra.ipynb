{
  "nbformat": 4,
  "nbformat_minor": 0,
  "metadata": {
    "colab": {
      "provenance": [],
      "include_colab_link": true
    },
    "kernelspec": {
      "name": "python3",
      "display_name": "Python 3"
    },
    "language_info": {
      "name": "python"
    }
  },
  "cells": [
    {
      "cell_type": "markdown",
      "metadata": {
        "id": "view-in-github",
        "colab_type": "text"
      },
      "source": [
        "<a href=\"https://colab.research.google.com/github/xujialuellie/Algebra_with_Python/blob/main/Week_05_xtra.ipynb\" target=\"_parent\"><img src=\"https://colab.research.google.com/assets/colab-badge.svg\" alt=\"Open In Colab\"/></a>"
      ]
    },
    {
      "cell_type": "markdown",
      "source": [
        "Notes and work"
      ],
      "metadata": {
        "id": "5aS6gYl3ulv5"
      }
    },
    {
      "cell_type": "code",
      "execution_count": null,
      "metadata": {
        "id": "ORJreCNZsqhu"
      },
      "outputs": [],
      "source": [
        "1500 = 10x + 500\n",
        "0 = 10x - 1000"
      ]
    },
    {
      "cell_type": "markdown",
      "source": [
        "Solve an equation"
      ],
      "metadata": {
        "id": "h9wdH3LhuG2C"
      }
    },
    {
      "cell_type": "code",
      "source": [
        "import sympy \n",
        "from sympy import symbols \n",
        "from sympy.solvers import solve \n",
        "\n",
        "x = symbols('x') \n",
        "\n",
        "# Put the equation here\n",
        "eq = 10*x - 1000\n",
        "\n",
        "solution = solve(eq,x)\n",
        "print(\"x = \", solution[0])\n"
      ],
      "metadata": {
        "colab": {
          "base_uri": "https://localhost:8080/"
        },
        "id": "Gy6sVbqVuKRB",
        "outputId": "72b30f48-046e-47b6-ba96-3affbf68d1d0"
      },
      "execution_count": null,
      "outputs": [
        {
          "output_type": "stream",
          "name": "stdout",
          "text": [
            "x =  100\n"
          ]
        }
      ]
    },
    {
      "cell_type": "markdown",
      "source": [
        "Graph the solution"
      ],
      "metadata": {
        "id": "xZzkJ2-FuYxx"
      }
    },
    {
      "cell_type": "code",
      "source": [
        "import matplotlib.pyplot as plt\n",
        "import numpy as np\n",
        "\n",
        "x1 = 0\n",
        "y1 = 0\n",
        "x2 = 40\n",
        "y2 = 13\n",
        "\n",
        "# Develop the equation y = mx + b\n",
        "m = (y2 - y1) / (x2 - x1)\n",
        "b = y1 - m*x1\n",
        "print(\"y = \", m, \"x + \", b)\n",
        "\n",
        "# For the graph\n",
        "xmin = 0\n",
        "xmax = 100\n",
        "ymin = 0\n",
        "ymax = 50\n",
        "\n",
        "# For the line on the graph\n",
        "y3 = m*xmin + b \n",
        "y4 = m*xmax + b \n",
        "\n",
        "# Basic setup for the graph\n",
        "fig, ax = plt.subplots()\n",
        "plt.axis([xmin,xmax,ymin,ymax]) # window size\n",
        "plt.plot([xmin,xmax],[0,0],'b') # blue x axis\n",
        "plt.plot([0,0],[ymin,ymax], 'b') # blue y axis\n",
        "\n",
        "# Add details to the graph\n",
        "ax.set_xlabel(\"thousands\")\n",
        "ax.set_ylabel(\"tons\")\n",
        "ax.grid(True)\n",
        "#ax.set_xticks(np.arange(xmin, xmax, 2))\n",
        "#ax.set_yticks(np.arange(ymin, ymax, 1))\n",
        "\n",
        "\n",
        "# Plot the linear function as a red line\n",
        "plt.plot([xmin,xmax],[y3,y4],'r')\n",
        "\n",
        "plt.show()\n"
      ],
      "metadata": {
        "colab": {
          "base_uri": "https://localhost:8080/",
          "height": 301
        },
        "id": "ngy3aRPTubfh",
        "outputId": "9ed22531-b870-491b-8996-0c8ed5d58fa2"
      },
      "execution_count": null,
      "outputs": [
        {
          "output_type": "stream",
          "name": "stdout",
          "text": [
            "y =  0.325 x +  0.0\n"
          ]
        },
        {
          "output_type": "display_data",
          "data": {
            "text/plain": [
              "<Figure size 432x288 with 1 Axes>"
            ],
            "image/png": "[encoded data removed]"
          },
          "metadata": {
            "needs_background": "light"
          }
        }
      ]
    }
  ]
}