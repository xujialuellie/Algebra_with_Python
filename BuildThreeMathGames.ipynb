{
  "nbformat": 4,
  "nbformat_minor": 0,
  "metadata": {
    "colab": {
      "provenance": [],
      "authorship_tag": "ABX9TyPdP07v3s0ZjsvtvZ4afa3W",
      "include_colab_link": true
    },
    "kernelspec": {
      "name": "python3",
      "display_name": "Python 3"
    },
    "language_info": {
      "name": "python"
    }
  },
  "cells": [
    {
      "cell_type": "markdown",
      "metadata": {
        "id": "view-in-github",
        "colab_type": "text"
      },
      "source": [
        "<a href=\"https://colab.research.google.com/github/xujialuellie/Algebra_with_Python/blob/main/BuildThreeMathGames.ipynb\" target=\"_parent\"><img src=\"https://colab.research.google.com/assets/colab-badge.svg\" alt=\"Open In Colab\"/></a>"
      ]
    },
    {
      "cell_type": "markdown",
      "source": [
        "Scatter plot game \n",
        "*   Randomly generate points on a graph and the player has to input the (x,y) coordinates\n",
        "*   For added difficulty, make the graph larger"
      ],
      "metadata": {
        "id": "CCDCQ0tWsMst"
      }
    },
    {
      "cell_type": "code",
      "execution_count": null,
      "metadata": {
        "colab": {
          "base_uri": "https://localhost:8080/",
          "height": 1000
        },
        "id": "siEBq6PofUvL",
        "outputId": "5033779c-a4b3-4767-dba3-54d061a2ac86"
      },
      "outputs": [
        {
          "name": "stdout",
          "output_type": "stream",
          "text": [
            "[1] Star the game\n",
            "[0] Exit the game\n",
            "Please choose one option: 1\n"
          ]
        },
        {
          "output_type": "display_data",
          "data": {
            "text/plain": [
              "<Figure size 640x480 with 1 Axes>"
            ],
            "image/png": "[encoded data removed]"
          },
          "metadata": {}
        },
        {
          "name": "stdout",
          "output_type": "stream",
          "text": [
            "47\n",
            "92\n",
            "Please enter the x,y coordinates: 46,92\n",
            "46\n",
            "92\n",
            "Wrong x coordinate.\n",
            "[1] Continue\n",
            "[0] Exit\n",
            "Please choose one option: 1\n"
          ]
        },
        {
          "output_type": "display_data",
          "data": {
            "text/plain": [
              "<Figure size 640x480 with 1 Axes>"
            ],
            "image/png": "[encoded data removed]"
          },
          "metadata": {}
        },
        {
          "name": "stdout",
          "output_type": "stream",
          "text": [
            "88\n",
            "96\n",
            "Please enter the x,y coordinates: 88,96\n",
            "88\n",
            "96\n",
            "Correct!\n",
            "[1] Continue\n",
            "[0] Exit\n",
            "Please choose one option: 0\n"
          ]
        }
      ],
      "source": [
        "import numpy as np\n",
        "import matplotlib.pyplot as plt\n",
        "import random\n",
        "\n",
        "print(\"[1] Star the game\")\n",
        "print(\"[0] Exit the game\")\n",
        "option = int(input(\"Please choose one option: \"))\n",
        "\n",
        "while option != 0:\n",
        "  if option == 1:\n",
        "    x = random.randint(0, 101)\n",
        "    y = random.randint(0, 101)\n",
        "    plt.xlim(0, 100)\n",
        "    plt.ylim(0, 100)\n",
        "    plt.scatter(x, y)\n",
        "    plt.grid()\n",
        "    plt.show()\n",
        "\n",
        "    guess = input(\"Please enter the x,y coordinates: \")\n",
        "    xy_guess = guess.split(\",\")\n",
        "    x_guess = int(xy_guess[0])\n",
        "    y_guess = int(xy_guess[1])\n",
        "\n",
        "    if x_guess == x:\n",
        "      if y_guess == y:\n",
        "        print(\"Correct!\")\n",
        "      else:\n",
        "        print(\"Wrong y coordinate.\")\n",
        "    else:\n",
        "      if y_guess == y:\n",
        "        print(\"Wrong x coordinate.\")\n",
        "      else:\n",
        "        print(\"Both wrong!\")\n",
        "  else:\n",
        "    print(\"Invalid Input!\")\n",
        "  \n",
        "  print(\"[1] Continue\")\n",
        "  print(\"[0] Exit\")\n",
        "  option = int(input(\"Please choose one option: \"))\n"
      ]
    },
    {
      "cell_type": "markdown",
      "source": [
        "Algebra practice game\n",
        "*   Generate one-step and two-step problems with random integer values and the player has to input the answer\n",
        "*   Use positive and negative values. For added difficulty, make the numbers larger\n",
        "\n"
      ],
      "metadata": {
        "id": "SsQS2MADsk5O"
      }
    },
    {
      "cell_type": "code",
      "source": [
        "from random import randint\n",
        "\n",
        "print(\"[1] Star the game\")\n",
        "print(\"[0] Exit the game\")\n",
        "option = int(input(\"Please choose one option: \"))\n",
        "\n",
        "def random_with_N_digits(n):\n",
        "  range_start = 10**(n-1)\n",
        "  range_end = (10**n)-1\n",
        "  return randint(range_start, range_end)\n",
        "\n",
        "while option != 0:\n",
        "  if option == 1:\n",
        "    sign = input(\"Do you want the integer to be positive or negative (p for positive, n for negative): \")\n",
        "    digit = int(input(\"How many digits do you want the integer be (from 1 to 9): \"))\n",
        "    if sign == \"p\":\n",
        "      print(\"The random integer is: \", random_with_N_digits(digit))\n",
        "    elif sign == \"n\":\n",
        "      print(\"The random integer is: \", random_with_N_digits(digit)*(-1))\n",
        "  else:\n",
        "    print(\"Invalid Input!\")\n",
        "  \n",
        "  print(\"[1] Continue\")\n",
        "  print(\"[0] Exit\")\n",
        "  option = int(input(\"Please choose one option: \"))"
      ],
      "metadata": {
        "id": "cICd3vMtsrfh",
        "colab": {
          "base_uri": "https://localhost:8080/"
        },
        "outputId": "0b1038b6-7525-43bb-da59-a9a876e5eaac"
      },
      "execution_count": 2,
      "outputs": [
        {
          "name": "stdout",
          "output_type": "stream",
          "text": [
            "[1] Star the game\n",
            "[0] Exit the game\n",
            "Please choose one option: 1\n",
            "Do you want the integer to be positive or negative (p for positive, n for negative): p\n",
            "How many digits do you want the integer be (from 1 to 9): 5\n",
            "The random integer is:  11751\n",
            "[1] Continue\n",
            "[0] Exit\n",
            "Please choose one option: 1\n",
            "Do you want the integer to be positive or negative (p for positive, n for negative): n\n",
            "How many digits do you want the integer be (from 1 to 9): 9\n",
            "The random integer is:  -884267844\n",
            "[1] Continue\n",
            "[0] Exit\n",
            "Please choose one option: 0\n"
          ]
        }
      ]
    },
    {
      "cell_type": "markdown",
      "source": [
        "Projectile game\n",
        "*   Display a \"wall\" with random height and location. Player has to move sliders to adjust a parabolic path to clear the wall\n",
        "*   For added difficulty, make a second level where players enter a, b, and c without sliders"
      ],
      "metadata": {
        "id": "y4XFch-xssbV"
      }
    },
    {
      "cell_type": "code",
      "source": [
        "%matplotlib inline\n",
        "from ipywidgets import interactive\n",
        "import matplotlib.pyplot as plt\n",
        "import numpy as np\n",
        "import random\n",
        "import math\n",
        "\n",
        "loc = random.randint(1,10)\n",
        "h = random.randint(1,10)\n",
        "\n",
        "def f(a,b,c):\n",
        "    plt.axis([-10,10,-10,10]) # window size\n",
        "    plt.plot([-10,10],[0,0],'k') # blue x axis\n",
        "    plt.plot([0,0],[-10,10], 'k') # blue y axis\n",
        "    x = np.linspace(-10, 10, 1000)\n",
        "\n",
        "    plt.plot(x, a*x**2 + b*x + c)\n",
        "    root2 = round((-b - math.sqrt(b**2 - 4*a*c))/(2*a),2)\n",
        "    if root2 >= loc:\n",
        "      print(\"Distance: \", root2, \" Success!\")\n",
        "    else:\n",
        "      print(\"Missed it by that much!\")\n",
        "    print(\" \")\n",
        "    plt.show()\n",
        "\n",
        "def level2(a, b, c):\n",
        "  vx = -b/(2*a)\n",
        "  vy = a*vx**2 + b*vx + c\n",
        "\n",
        "  xmin = -1\n",
        "  xmax = int(2*vx + 20)\n",
        "  ymin = -1\n",
        "  ymax = int(vy + 10)\n",
        "\n",
        "  points = 2*(xmax-xmin)\n",
        "  x = np.linspace(xmin,xmax,points)\n",
        "  y = a*x**2 + b*x + c\n",
        "\n",
        "  fig, ax = plt.subplots()\n",
        "  plt.axis([xmin,xmax,ymin,ymax])\n",
        "  plt.plot([xmin,xmax],[0,0])\n",
        "  plt.plot([0,0],[ymin,ymax])\n",
        "\n",
        "  # Line for target distance\n",
        "  plt.plot([loc,loc],[0,h],'r')\n",
        "\n",
        "  plt.plot(x,y) # plot the parabola\n",
        "\n",
        "  root2 = round((-b - math.sqrt(b**2 - 4*a*c))/(2*a),2)\n",
        "  if root2 >= loc:\n",
        "    print(\"Distance: \", root2, \" Success!\")\n",
        "  else:\n",
        "    print(\"Missed it by that much!\")\n",
        "\n",
        "  print(\" \")\n",
        "  plt.show()\n",
        "\n",
        "print(\"[1] With Sliders\")\n",
        "print(\"[2] Without Sliders\")\n",
        "print(\"[0] Exit the game\")\n",
        "option = int(input(\"Please choose one option: \"))\n",
        "\n",
        "while option != 0:\n",
        "  if option == 1:\n",
        "    interactive_plot = interactive(f, a=(-9, 9), b=(-9,9), c=(-9,9))\n",
        "    interactive_plot\n",
        "  elif option == 2:\n",
        "    plt.plot([loc,loc],[0,h],'r')\n",
        "    a = int(input(\"a = \"))\n",
        "    b = int(input(\"b = \"))\n",
        "    c = int(input(\"c = \"))\n",
        "    level2(a,b,c)\n",
        "  else:\n",
        "    print(\"Invalid Input!\")\n",
        "  \n",
        "  print(\"[1] With Sliders\")\n",
        "  print(\"[2] Without Sliders\")\n",
        "  print(\"[0] Exit the game\")\n",
        "  option = int(input(\"Please choose one option: \"))"
      ],
      "metadata": {
        "id": "-4Zu2LG0ss99"
      },
      "execution_count": null,
      "outputs": []
    }
  ]
}