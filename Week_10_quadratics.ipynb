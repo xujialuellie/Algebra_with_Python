{
  "nbformat": 4,
  "nbformat_minor": 0,
  "metadata": {
    "colab": {
      "provenance": [],
      "include_colab_link": true
    },
    "kernelspec": {
      "name": "python3",
      "display_name": "Python 3"
    },
    "language_info": {
      "name": "python"
    },
    "widgets": {
      "application/vnd.jupyter.widget-state+json": {
        "5ce9085ac687416caa6581d0d505a6dd": {
          "model_module": "@jupyter-widgets/controls",
          "model_name": "VBoxModel",
          "model_module_version": "1.5.0",
          "state": {
            "_dom_classes": [
              "widget-interact"
            ],
            "_model_module": "@jupyter-widgets/controls",
            "_model_module_version": "1.5.0",
            "_model_name": "VBoxModel",
            "_view_count": null,
            "_view_module": "@jupyter-widgets/controls",
            "_view_module_version": "1.5.0",
            "_view_name": "VBoxView",
            "box_style": "",
            "children": [
              "IPY_MODEL_06d39acb1ff54f8f82b36906f35a7039",
              "IPY_MODEL_de478b74c38b446f9e8d0605bb0a8ac5",
              "IPY_MODEL_e0b9f0d6e8ac422c9ea6313a77819a69",
              "IPY_MODEL_2ecbca567a6244c597e6418abbe17fe8"
            ],
            "layout": "IPY_MODEL_794d859582c04c8b932c5dbe5f10395c"
          }
        },
        "06d39acb1ff54f8f82b36906f35a7039": {
          "model_module": "@jupyter-widgets/controls",
          "model_name": "IntSliderModel",
          "model_module_version": "1.5.0",
          "state": {
            "_dom_classes": [],
            "_model_module": "@jupyter-widgets/controls",
            "_model_module_version": "1.5.0",
            "_model_name": "IntSliderModel",
            "_view_count": null,
            "_view_module": "@jupyter-widgets/controls",
            "_view_module_version": "1.5.0",
            "_view_name": "IntSliderView",
            "continuous_update": true,
            "description": "a",
            "description_tooltip": null,
            "disabled": false,
            "layout": "IPY_MODEL_557cd5a49dfe48ce8d32cd80276897a6",
            "max": 9,
            "min": 1,
            "orientation": "horizontal",
            "readout": true,
            "readout_format": "d",
            "step": 1,
            "style": "IPY_MODEL_a9f5436359024934bf766d48793f4bff",
            "value": 5
          }
        },
        "de478b74c38b446f9e8d0605bb0a8ac5": {
          "model_module": "@jupyter-widgets/controls",
          "model_name": "IntSliderModel",
          "model_module_version": "1.5.0",
          "state": {
            "_dom_classes": [],
            "_model_module": "@jupyter-widgets/controls",
            "_model_module_version": "1.5.0",
            "_model_name": "IntSliderModel",
            "_view_count": null,
            "_view_module": "@jupyter-widgets/controls",
            "_view_module_version": "1.5.0",
            "_view_name": "IntSliderView",
            "continuous_update": true,
            "description": "b",
            "description_tooltip": null,
            "disabled": false,
            "layout": "IPY_MODEL_3869940bc49742c7898d2b3136c43113",
            "max": 9,
            "min": -9,
            "orientation": "horizontal",
            "readout": true,
            "readout_format": "d",
            "step": 1,
            "style": "IPY_MODEL_d8a214cc2954464e9e735e7e6321204e",
            "value": 0
          }
        },
        "e0b9f0d6e8ac422c9ea6313a77819a69": {
          "model_module": "@jupyter-widgets/controls",
          "model_name": "IntSliderModel",
          "model_module_version": "1.5.0",
          "state": {
            "_dom_classes": [],
            "_model_module": "@jupyter-widgets/controls",
            "_model_module_version": "1.5.0",
            "_model_name": "IntSliderModel",
            "_view_count": null,
            "_view_module": "@jupyter-widgets/controls",
            "_view_module_version": "1.5.0",
            "_view_name": "IntSliderView",
            "continuous_update": true,
            "description": "c",
            "description_tooltip": null,
            "disabled": false,
            "layout": "IPY_MODEL_3dd06cc0621d4445ae8906c7b62cc120",
            "max": 9,
            "min": -9,
            "orientation": "horizontal",
            "readout": true,
            "readout_format": "d",
            "step": 1,
            "style": "IPY_MODEL_3a56ff812dc64a89a0b6596a3cd6c5ba",
            "value": 0
          }
        },
        "2ecbca567a6244c597e6418abbe17fe8": {
          "model_module": "@jupyter-widgets/output",
          "model_name": "OutputModel",
          "model_module_version": "1.0.0",
          "state": {
            "_dom_classes": [],
            "_model_module": "@jupyter-widgets/output",
            "_model_module_version": "1.0.0",
            "_model_name": "OutputModel",
            "_view_count": null,
            "_view_module": "@jupyter-widgets/output",
            "_view_module_version": "1.0.0",
            "_view_name": "OutputView",
            "layout": "IPY_MODEL_ae07af8a80394476ac10ebd1bc356831",
            "msg_id": "",
            "outputs": [
              {
                "output_type": "display_data",
                "data": {
                  "text/plain": "<Figure size 432x288 with 1 Axes>",
                  "image/png": "iVBORw0KGgoAAAANSUhEUgAAAY0AAAEICAYAAACj2qi6AAAABHNCSVQICAgIfAhkiAAAAAlwSFlzAAALEgAACxIB0t1+/AAAADh0RVh0U29mdHdhcmUAbWF0cGxvdGxpYiB2ZXJzaW9uMy4yLjIsIGh0dHA6Ly9tYXRwbG90bGliLm9yZy+WH4yJAAAgAElEQVR4nO3deZQcZ33u8e8zM1pH+75LlhcZy+Bt4mCwicBLjGNwCCaIEDCYHIGN7w2Xe5OYcAIO3NzLEuAQwDgiOIHEYQsYFJCxZbBjnBsbS8YylmRZC5KlkSyNthlJo21mfvePrhHNuHtUo+nqxf18zpkz1VXVVT/VtPrp932rqhURmJmZpdFQ6QLMzKx2ODTMzCw1h4aZmaXm0DAzs9QcGmZmlppDw8zMUnNomJlZag4Ne0mRtEXSEUmHkp8HBvj8f0ozX9KfSXpG0kFJv5L0Z6dfdb/1XCnpWUmdkh6SNDeL/fSz/wmS7pV0WNJWSX9Uzv1b9XFo2EvRGyJiVPJzzalWljRS0t9Lmpg8nps8nivpc5JGJvNfLulve58GvBMYD1wL3CZpcZriJD0saVGK9SYB3wP+CpgArAS+lWYfp9juu4qFYwFfAo4DU4G3A1+WtHCwNVjtcmhYWSSfzL/bZ97fSfp8GWtYLukzeY+/KenuiOgEvgDcCVwBfAz4RERsBb4L/DPwWuAW4JMAEfGpiHgyIroiYj3wA+DVJS75D4A1EfGdiDgK3AFcIOncpAWwXdIbkn/LKEkbJb2zVDuX1Ay8GfiriDgUEY8Cy4B3lGofVnscGlYu/wJcK2kcgKQmYDHw9UIrS/qhpANFfn54in3dI6lN0gOSLsibfzPwDkmvk/R24FLgT/vuGuhJfvrqBl503x1JIhc2a05R10AtBFb3PoiIw8AmYGFE7CP37/mKpCnA54CnIqLg8TxN5wBdEfFc3rzVSV1WpxwaVhYRsRN4BHhLMutaYE9ErCqy/vURMa7Iz/X97OrtwDxgLvAQcH9vUEXEC+RaC18DPg+8MyIOJt1P/x24NanxDuBDyfjBm8l9sn4I+ArwFwX2eQe5/0v/mOpgpDcKaO8zrx0YDRARDwDfAX4CXAe8N4P9dxTbv9Unh4aV09eAP06m/5hct09JRcR/RsSRiOiMiP8LHCDXCuj170AjsD7pbiFZd0lE7E0eb42I9yW//0fSfUVEPB0RvzHgLek2cmMbvxcRx4rVld9SAi4H8ltStxd52iFgTJ95Y4CDeY+XAucD/9Rbf5H935m3/zuBP8rb/9OD2L/VGYeGldP3gVdIOh+4Hrin2IqS7ss7A6rvz30D2GeQ63Lq9TfAOmC6pLe9aOWIdxXcSIH5km4GbgeujIjt/RaR11ICHgXyW1KfKPK0NcDJ7rVkjOHMZD6SGsmFxteBWyWd1c/+b83b/63Av+bt/xVFnvYc0CTp7Lx5F1D6bjirIU2VLsDqR0QclfRvwL8CP4+I5/tZ9/UD3b6kOcBs4AlyH4j+GzAJ+M9k+WuAd5N745sP3CvpkYhoPY19vR34P8BrI2LzQJ+f0r3ApyW9GfgR8BHg6Yh4Nln+l+RC8WZy3WZfl3RFRHSXYucRcVjS94CPSfoT4ELgBuBVpdi+1Sa3NKzcvga8nAy6psj1tX8Z2A+0khs3eX1E7JU0htwn8tsiojUifgZ8FfjHZCB7oP43MBF4Iq8FdFdp/hk5EdFGbkzlb8j9m36b3MkDSLoE+CC5cZlucmd1BbmWTyndCowAdgPfAG6JCLc06pj8JUxWTklr4FlgWkT0HWQ1syrnloaVjaQGcp+Ov+nAMKtNJQkNSXdL2i3pmbx5EyStkLQh+T2+yHNvStbZIOmmUtRj1ScZxO0ArgY+WuFyzOw0laR7KhlgPAR8PSLOT+Z9CtgXEZ9ITikcHxF/0ed5vbdGaCHXH7sKuCQi9g+6KDMzK7mStDQi4hFgX5/ZN5Ab9CT5/fsFnvq7wIqI2JcExQpyg5dmZlaFsjzldmpyFTDAC+RueNbXTGBb3uPtybwXkbQEWALQ3Nx8ybnnnlvCUq0edBw9wda9nZw5eRQjhzaWfPvr1+d+L1hQ8k0TAc/saGfK6GFMHTO89DuwurBq1ao9ETF5MNsoy3UaERGSBtUPFhFLyV3IREtLS6xcubIktVn9eKa1neu/8Cif/eOLufb86SXf/qJFud8PP1zyTbNtXydXfOohPvnml/PW35pT+h1YXZC0dbDbyPLsqV2SpgMkv3cXWKeV3MVYvWYl88xKbvrY3Cf0ne1HK1zJwL3Qkat52tgRFa7E6l2WobEM6D0b6iZyt47u637gGknjk7OrrknmmZXchOahDG1s4IUaDI3eoOsNPrNKKdUpt98A/gtYkNzj/z3AJ4CrJW0ArkoeI6lF0j8AJLd3/ji52z48AXwsmWdWcpKYNnZ4bbY02o8AMM2hYRVWkjGNiHjRjd8SVxZYdyXwJ3mP7wbuLkUdZqcybezwmm1pNA9tZPQw3y7OKstXhFtdmT52ODs7jlS6jAF7of0o08YO5/Ruk2VWOg4NqyvTxg5nV/sxenpq655rO9uPMt2D4FYFHBpWV6aPGc7x7h72Hj5e6VIGpLelYVZpDg2rK9PH5T6t19K4xonuHnYfPOozp6wqODSsrsxMQqP1QO2Ma+zqOEpP/Lp2s0pyaFhdmZG88e6oodDYcSDXKprh0LAq4NCwujJ+5BCGD2mosdDI1erQsGrg0LC6IokZ40awo712QqP1ZGh4TMMqz6FhdWfmuBG07q+t0JjQPJSRQ31hn1WeQ8PqzsxxI2g9UDtnT+04cMStDKsaDg2rOzPGjWDPoWMcPdFd6VJS2XHgCDN8YZ9VCYeG1Z0ZNXStRkTQuv+IB8Gtajg0rO70dvXUwhlUHUe7OHy829doWNVwaFjdqaUL/Hy6rVUbh4bVndzdYn990Vw16w2NmeMdGlYdHBpWd4Y1NTJ51LCa6J7a4Ws0rMo4NKwuzRg3oia6p7YfOMLQxgYmNQ+rdClmgEPD6tTMGgmN1v1HmD5uOA0N/vIlqw6ZhoakBZKeyvvpkPSBPussktSet85HsqzJDGDWhNxV4dX+ZUzb9h9h9viRlS7D7KRM70sQEeuBCwEkNQKtwL0FVv1ZRFyfZS1m+WaNH8nx7h52HzxW1V9u1Lq/k6teNrXSZZidVM7uqSuBTRGxtYz7NCtodnI20rb9nRWupLjO413sOXSc2RPc0rDqUc7QWAx8o8iyyyStlnSfpIVlrMnqVO8b8bZ91Rsa25ObKs7y6bZWRcoSGpKGAm8EvlNg8ZPA3Ii4APgC8P0i21giaaWklW1tbdkVa3Wh9wK/7VV8t9vtSSvILQ2rJuVqabweeDIidvVdEBEdEXEomV4ODJE0qcB6SyOiJSJaJk+enH3F9pI2fEgjU0YPq+qWxrZ9bmlY9SlXaLyNIl1TkqZJUjJ9aVLT3jLVZXVs9oSRVT2msW1fJ8OHNDB5lK/RsOqR+be6SGoGrgbemzfvfQARcRdwI3CLpC7gCLA4Iqr7PEh7SZg9fgRPbNlf6TKK2ra/k1njR5J8pjKrCpmHRkQcBib2mXdX3vQXgS9mXYdZX7PGj+Tfn95JV3cPTY3Vd53r9v1H3DVlVaf6/qeYlcnsCSPo7gl2Vun3amzb1+kL+6zqODSsbvW+IVfjYHj7kRN0HO1i9gS3NKy6ODSsbs1KQqMaT7vtPd12llsaVmUcGla3po8bTmODeL4KWxq9rR93T1m1cWhY3RrS2MDMcSPYWoWhsXVvrqY5Ex0aVl0cGlbX5k4cyda9hytdxots2dvJ+JFDGDtiSKVLMfsNDg2ra7nQqL6WxvP7DjN3YnOlyzB7EYeG1bV5E5tpP3KCA53HK13Kb9iyp5N57pqyKuTQsLo2J7kZ4JYqam0c6+pmR/sR5rilYVXIoWF1bd6k3BtzNY1rbN9/hAjc0rCq5NCwutbb0qimcY3eAPOYhlUjh4bVteFDGpk2ZniVhUaulrluaVgVcmhY3au202637u1k1LAmJjYPrXQpZi/i0LC6N29ic1UNhG/Ze5i5E31LdKtODg2re3MmjmTPoWMcPtZV6VIAeH5vp7umrGo5NKzuzUsGnLdUQRdVV3cP2/Z3MmeCB8GtOjk0rO6dkZx2u7mt8qGxbf8RTnQH8yc7NKw6OTSs7p0xqRmpOkJjc9shAM6cPKrClZgV5tCwujdiaCMzxo5g855DlS7lZHCd6ZaGVanMQ0PSFkm/lPSUpJUFlkvS30naKOlpSRdnXZNZX/MnN1dHS2PPISY0D2XcSJ9ua9WpXC2N10bEhRHRUmDZ64Gzk58lwJfLVJPZSWdOHsXmtkNEREXr2NR2mPmT3Mqw6lUN3VM3AF+PnMeAcZKmV7ooqy/zJzdz+Hg3uzqOVbSOzW2HPAhuVa0coRHAA5JWSVpSYPlMYFve4+3JvN8gaYmklZJWtrW1ZVSq1avegefegehKaD9ygj2HjnsQ3KpaOULj8oi4mFw31PslveZ0NhIRSyOiJSJaJk+eXNoKre71frrfVMHQ6A2s+Q4Nq2KZh0ZEtCa/dwP3Apf2WaUVmJ33eFYyz6xspo0ZzsihjWyq4GB470C8u6esmmUaGpKaJY3unQauAZ7ps9oy4J3JWVSvBNojYmeWdZn1JYkzJjWzeU8FQ2PPIZoadPJ27WbVqCnj7U8F7k1uvNYE/GtE/FjS+wAi4i5gOXAdsBHoBN6dcU1mBZ05eRSrtu6v2P437T7MnAkjGdJYDeenmBWWaWhExGbgggLz78qbDuD9WdZhlsY5U0exbPUODh3rYtSwrD9Pvdhzuw9yztTRZd+v2UD4I41Z4uzkDXvDroNl3/fRE91s2XOYc6Z6ENyqm0PDLLHgZGiU/wyqzW2H6Qk4Z5pbGlbdHBpmidkTRjJ8SAPrK9DSeC7Z5wJ3T1mVc2iYJRobxFlTRp18Ay+n9bsOMqRRzPMtRKzKOTTM8pwzdXRFQmPDroPMnzTKZ05Z1fMr1CzPgqmj2dVxjPbOE2Xd7/pdBz2eYTXBoWGWp/eU1+d2l6+10Xm8i237jnDOFJ85ZdXPoWGWp/fT/voXyhcavWdruaVhtcChYZZnxtjhjB7WVNbQ6N2Xz5yyWuDQMMsjiZdNH8OaHe1l2+eaHe2MGtbke05ZTXBomPVx3owxrNt5kO6e8nyL35odHbxs+mgaGlSW/ZkNhkPDrI+FM8Zw5EQ3vyrDHW97eoJ1OztYOGNs5vsyKwWHhlkfvW/g5eii2rL3MIePd3PejDGZ78usFBwaZn2cPXUUQxsbWLujI/N9rUn2sdChYTXCoWHWx5DGBs6ZNurkG3qW1uzoYEijOHuKz5yy2uDQMCtg4fSxrN3ZQe7rXrKzZkc750wdzdAm/1e02uBXqlkBC2eOYd/h47zQcTSzfUQEa3d0uGvKaopDw6yA3sHw1duyGwzf0X6UvYePc/5MnzlltSOz0JA0W9JDktZKWiPpTwuss0hSu6Snkp+PZFWP2UAsnDGGIY3iqW0HMtvHL57PfR/5RbPHZ7YPs1LL8ouQu4D/GRFPShoNrJK0IiLW9lnvZxFxfYZ1mA3Y8CGNnDdj7Mk39iz84vkDDGtq4NzpHgS32pFZSyMidkbEk8n0QWAdMDOr/ZmV2kWzx/H09na6unsy2f6Tz+/nFbPG+js0rKaU5dUqaR5wEfB4gcWXSVot6T5JC/vZxhJJKyWtbGtry6hSs1+7aM44jpzo5tkMbl54rKubNa0dXDTHXVNWWzIPDUmjgO8CH4iIvie+PwnMjYgLgC8A3y+2nYhYGhEtEdEyefLk7Ao2S1ycvKH/IoNxjbU7Ojje3cNFs8eVfNtmWco0NCQNIRcY90TE9/ouj4iOiDiUTC8HhkialGVNZmnNGj+CSaOGZjKu8Yvnc0HklobVmizPnhLwVWBdRHy2yDrTkvWQdGlSz96sajIbCElcOHv8yTf4Unry+f1MHzucaWOHl3zbZlnK8uypVwPvAH4p6alk3l8CcwAi4i7gRuAWSV3AEWBxZH0JrtkA/Na88Ty4bhe7Oo4ydUxp3uAjgsd/tY9Xzp9Yku2ZlVNmoRERjwL9fkFARHwR+GJWNZgN1qvOzPWWPrZ5LzdcWJqT/za1Habt4DFedaZDw2qPz/Uz68d5M8YwZngT/7WpdL2m/7U5t63L3NKwGuTQMOtHY4P47fkT+X8lDI3HNu1lxtjhzJ3or3e12uPQMDuFy+ZP5Pl9nWzf3znobfX0BI9t3ssrz5xIcg6IWU1xaJidwqvOynUjlaKL6rndB9l7+PjJsRKzWuPQMDuFc6aMZmLzUB7duGfQ23p0Q24bl3kQ3GqUQ8PsFBoaxKIFU3jo2d2cGOR9qB5ct4tzp41m5rgRJarOrLwcGmYpXH3eVDqOdrFyy+lfHX6g8zhPbNnP1edNLWFlZuXl0DBL4YqzJzG0qYEVa3ed9jZ++uxuunuCq17m0LDa5dAwS6F5WBOvPnMiK9a9cNrfG/7gul1MGT2Ml/ub+qyGOTTMUrr6vGls23eE9bsGfqv0oye6+Y/1bVx13lQaGnyqrdUuh4ZZSlefN5XGBnHvL1oH/NwVa3dx+Hg3150/PYPKzMrHoWGW0uTRw3jduVP47qrWAZ9F9e2V25g5boTvN2U1z6FhNgB/2DKbPYeO8fD69N8euX1/J49u3MONl8xy15TVPIeG2QAsWjCZSaOG8e2V21I/57urct1ZN14yK6uyzMrGoWE2AEMaG7jxkln8ZN0ufrXn8CnXP3qim3se38rlZ01i9gTfoNBqn0PDbIBuvnweQ5sa+PyDz51y3X95bCu7Dx7j/a89qwyVmWXPoWE2QFNGD+emy+bxg9U72Li7+Om3nce7+PLDm3j1WRP9LX32kuHQMDsN7/2dMxk5pJG//ve19PQUvtjv8z/ZwN7Dx/ng1QvKXJ1ZdjIPDUnXSlovaaOk2wssHybpW8nyxyXNy7oms8Ga0DyUv/y9l/GzDXv4wk83cutnr+LR3xH/sUg0fVS89eOv4e//YzNvu3Q2l8wdX+lyzUoms+8IB5DUCHwJuBrYDjwhaVlErM1b7T3A/og4S9Ji4JPAW7Osy6wU/ujSOazcsp+vfu8t/HLK6pMfwboF3+7+Ga883slH3/B4ZYs0K7FMQwO4FNgYEZsBJH0TuAHID40bgDuS6X8DvihJ0c8Nftavh0WLMqnXbABET8P5rL1iNfS9/ELwxOhVXHt1Y0UqM8tK1t1TM4H8E9q3J/MKrhMRXUA78KJRQ0lLJK2UtPLEiRMZlWs2MA09TXQXuV6v2HyzWpZ1S6NkImIpsBSgpaUlHn64svWY9Wr6aOGAaAzw69SqSSm+lj7rlkYrMDvv8axkXsF1JDUBY4HBfxmzWZksGXsl9O1MjWS+2UtM1qHxBHC2pDMkDQUWA8v6rLMMuCmZvhH4aX/jGWbV5s4PPsgtY66ksQcIaOyBW8ZcyZ0ffLDSpZmVXKbdUxHRJek24H6gEbg7ItZI+hiwMiKWAV8F/lnSRmAfuWAxqyl3fvBB1i7KTbtLyl7KMh/TiIjlwPI+8z6SN30UeEvWdZiZ2eD5inAzM0vNoWFmZqk5NMzMLDWHhpmZpebQMDOz1BwaZmaWmkPDzMxSc2iYmVlqDg0zM0vNoWFmZqk5NMzMLDWHhpmZpebQMDOz1BwaZmaWmkPDzMxSc2iYmVlqDg0zM0vNoWFmZqll8nWvkj4NvAE4DmwC3h0RBwqstwU4CHQDXRHRkkU9ZmZWGlm1NFYA50fEK4DngA/1s+5rI+JCB4aZWfXLJDQi4oGI6EoePgbMymI/ZmZWXuUY07gZuK/IsgAekLRK0pL+NiJpiaSVkla2tbWVvEgzMzu10x7TkPQgMK3Aog9HxA+SdT4MdAH3FNnM5RHRKmkKsELSsxHxSKEVI2IpsBSgpaUlTrduMzM7facdGhFxVX/LJb0LuB64MiIKvslHRGvye7eke4FLgYKhYWZmlZdJ95Ska4E/B94YEZ1F1mmWNLp3GrgGeCaLeszMrDSyGtP4IjCaXJfTU5LuApA0Q9LyZJ2pwKOSVgM/B34UET/OqB4zMyuBTK7TiIiziszfAVyXTG8GLshi/2Zmlg1fEW5mZqk5NMzMLDWHhpmZpebQMDOz1BwaZmaWmkPDzMxSc2iYmVlqDg0zM0vNoWFmZqk5NMzMLDWHhpmZpebQMDOz1BwaZmaWmkPDzMxSc2iYmVlqDg0zM0vNoWFmZqk5NMzMLLXMQkPSHZJak+8If0rSdUXWu1bSekkbJd2eVT1mZjZ4mXxHeJ7PRcTfFlsoqRH4EnA1sB14QtKyiFibcV1mZnYaKt09dSmwMSI2R8Rx4JvADRWuyczMisg6NG6T9LSkuyWNL7B8JrAt7/H2ZN6LSFoiaaWklW1tbVnUamZmpzCo0JD0oKRnCvzcAHwZOBO4ENgJfGYw+4qIpRHREhEtkydPHsymzMzsNA1qTCMirkqznqSvAD8ssKgVmJ33eFYyz8zMqlCWZ09Nz3v4JuCZAqs9AZwt6QxJQ4HFwLKsajIzs8HJ8uypT0m6EAhgC/BeAEkzgH+IiOsiokvSbcD9QCNwd0SsybAmMzMbhMxCIyLeUWT+DuC6vMfLgeVZ1WFmZqVT6VNuzcyshjg0zMwsNYeGmZml5tAwM7PUHBpmZpaaQ8PMzFJzaJiZWWoODTMzS82hYWZmqTk0zMwsNYeGmZml5tAwM7PUHBpmZpaaQ8PMzFJzaJiZWWoODTMzS82hYWZmqTk0zMwstUy+7lXSt4AFycNxwIGIuLDAeluAg0A30BURLVnUY2ZmpZFJaETEW3unJX0GaO9n9ddGxJ4s6jAzs9LKJDR6SRLwh8DrstyPmZmVR9ZjGlcAuyJiQ5HlATwgaZWkJRnXYmZmg3TaLQ1JDwLTCiz6cET8IJl+G/CNfjZzeUS0SpoCrJD0bEQ8UmR/S4AlAHPmzDndss3MbBBOOzQi4qr+lktqAv4AuKSfbbQmv3dLuhe4FCgYGhGxFFgK0NLSEqdZtpmZDUKW3VNXAc9GxPZCCyU1SxrdOw1cAzyTYT1mZjZIWYbGYvp0TUmaIWl58nAq8Kik1cDPgR9FxI8zrMfMzAYps7OnIuJdBebtAK5LpjcDF2S1fzMzKz1fEW5mZqk5NMzMLDWHhpmZpebQMDOz1BwaZmaWmkPDzMxSc2iYmVlqDg0zM0vNoWFmZqk5NMzMLDWHhpmZpebQMDOz1BwaZmaWmkPDzMxSc2iYmVlqDg0zM0vNoWFmZqk5NMzMLDWHhpmZpTao0JD0FklrJPVIaumz7EOSNkpaL+l3izz/DEmPJ+t9S9LQwdRjZmbZGmxL4xngD4BH8mdKOg9YDCwErgXulNRY4PmfBD4XEWcB+4H3DLIeMzPL0KBCIyLWRcT6AotuAL4ZEcci4lfARuDS/BUkCXgd8G/JrK8Bvz+YeszMLFtNGW13JvBY3uPtybx8E4EDEdHVzzonSVoCLEkeHpP0TIlqzdIkYE+liziFWqgRaqhOqTbqpEaOJ66zlBYMdgOnDA1JDwLTCiz6cET8YLAFpBURS4GlSU0rI6LlFE+puFqosxZqBNdZaq6ztGqpzsFu45ShERFXncZ2W4HZeY9nJfPy7QXGSWpKWhuF1jEzsyqS1Sm3y4DFkoZJOgM4G/h5/goREcBDwI3JrJuAsrVczMxs4AZ7yu2bJG0HLgN+JOl+gIhYA3wbWAv8GHh/RHQnz1kuaUayib8APihpI7kxjq+m3PXSwdRdRrVQZy3UCK6z1FxnadVNncp94DczMzs1XxFuZmapOTTMzCy1qg2NWrtFSbKPp5KfLZKeKrLeFkm/TNYb9Olvp1HnHZJa82q9rsh61ybHd6Ok2ytQ56clPSvpaUn3ShpXZL2KHM9THZ/kJJBvJcsflzSvXLXl1TBb0kOS1ib/l/60wDqLJLXnvR4+Uu46kzr6/Tsq5++S4/m0pIvLXN+CvGP0lKQOSR/os07FjqWkuyXtzr9+TdIESSskbUh+jy/y3JuSdTZIuumUO4uIqvwBXkbuQpSHgZa8+ecBq4FhwBnAJqCxwPO/DSxOpu8Cbilj7Z8BPlJk2RZgUgWP6x3A/zrFOo3JcZ0PDE2O93llrvMaoCmZ/iTwyWo5nmmOD3ArcFcyvRj4VgX+1tOBi5Pp0cBzBepcBPyw3LUN9O8IXAfcBwh4JfB4BWttBF4A5lbLsQReA1wMPJM371PA7cn07YX+DwETgM3J7/HJ9Pj+9lW1LY2o0VuUJPv+Q+Ab5dhfRi4FNkbE5og4DnyT3HEvm4h4IH59t4DHyF3HUy3SHJ8byL3uIPc6vDJ5bZRNROyMiCeT6YPAOvq560KVuwH4euQ8Ru4ar+kVquVKYFNEbK3Q/l8kIh4B9vWZnf8aLPYe+LvAiojYFxH7gRXk7hdYVNWGRj9mAtvyHg/6FiUldgWwKyI2FFkewAOSViW3RqmE25Im/t1FmqxpjnE53UzuU2YhlTieaY7PyXWS12E7uddlRSTdYxcBjxdYfJmk1ZLuk7SwrIX92qn+jtX0mlxM8Q+F1XAse02NiJ3J9AvA1ALrDPi4ZnXvqVRUJbcoSStlvW+j/1bG5RHRKmkKsELSs8mnhLLUCXwZ+Di5/6QfJ9eVdnMp959WmuMp6cNAF3BPkc1kfjxrnaRRwHeBD0RER5/FT5LrZjmUjG99n9zFuOVWE3/HZGz0jcCHCiyulmP5IhERkkpyfUVFQyNq7BYlp6pXUhO5W8Vf0s82WpPfuyXdS66ro6T/OdIeV0lfAX5YYFGaYzxoKY7nu4DrgSsj6YAtsI3Mj2cBaY5P7zrbk9fFWHKvy7KSNIRcYNwTEd/ruzw/RCJiuaQ7JU2KiLLefC/F37Esr8kUXg88GRG7+i6olmOZZ5ek6RGxM+nK211gnVZyYzG9ZpEbRy6qFrunqvkWJVcBz0bE9kILJTVLGt07TW6wt6x36+3TD/ymIvt/AjhbuTPQhpJrji8rR329JF0L/DnwxojoLLJOpY5nmuOzjNzrDnKvw58WC76sJGMoXwXWRcRni6wzrXesRdKl5N4TyhpuKf+Oy4B3JmdRvRJoz+t6KaeiPQnVcCz7yLw+duYAAAEeSURBVH8NFnsPvB+4RtL4pKv6mmRecZUY6U95NsCbyPWvHQN2AffnLfswubNX1gOvz5u/HJiRTM8nFyYbge8Aw8pQ8z8B7+szbwawPK+m1cnPGnLdMOU+rv8M/BJ4OnlRTe9bZ/L4OnJn22yqUJ0byfW1PpX83NW3zkoez0LHB/gYuZADGJ687jYmr8P5FTiGl5Prhnw67zheB7yv93UK3JYcu9XkTjh4VQXqLPh37FOngC8lx/uX5J1RWcY6m8mFwNi8eVVxLMkF2U7gRPK++R5yY2g/ATYADwITknVbgH/Ie+7Nyet0I/DuU+3LtxExM7PUarF7yszMKsShYWZmqTk0zMwsNYeGmZml5tAwM7PUHBpmZpaaQ8PMzFL7/0pgIPfYdNR4AAAAAElFTkSuQmCC\n"
                },
                "metadata": {
                  "needs_background": "light"
                }
              }
            ]
          }
        },
        "794d859582c04c8b932c5dbe5f10395c": {
          "model_module": "@jupyter-widgets/base",
          "model_name": "LayoutModel",
          "model_module_version": "1.2.0",
          "state": {
            "_model_module": "@jupyter-widgets/base",
            "_model_module_version": "1.2.0",
            "_model_name": "LayoutModel",
            "_view_count": null,
            "_view_module": "@jupyter-widgets/base",
            "_view_module_version": "1.2.0",
            "_view_name": "LayoutView",
            "align_content": null,
            "align_items": null,
            "align_self": null,
            "border": null,
            "bottom": null,
            "display": null,
            "flex": null,
            "flex_flow": null,
            "grid_area": null,
            "grid_auto_columns": null,
            "grid_auto_flow": null,
            "grid_auto_rows": null,
            "grid_column": null,
            "grid_gap": null,
            "grid_row": null,
            "grid_template_areas": null,
            "grid_template_columns": null,
            "grid_template_rows": null,
            "height": null,
            "justify_content": null,
            "justify_items": null,
            "left": null,
            "margin": null,
            "max_height": null,
            "max_width": null,
            "min_height": null,
            "min_width": null,
            "object_fit": null,
            "object_position": null,
            "order": null,
            "overflow": null,
            "overflow_x": null,
            "overflow_y": null,
            "padding": null,
            "right": null,
            "top": null,
            "visibility": null,
            "width": null
          }
        },
        "557cd5a49dfe48ce8d32cd80276897a6": {
          "model_module": "@jupyter-widgets/base",
          "model_name": "LayoutModel",
          "model_module_version": "1.2.0",
          "state": {
            "_model_module": "@jupyter-widgets/base",
            "_model_module_version": "1.2.0",
            "_model_name": "LayoutModel",
            "_view_count": null,
            "_view_module": "@jupyter-widgets/base",
            "_view_module_version": "1.2.0",
            "_view_name": "LayoutView",
            "align_content": null,
            "align_items": null,
            "align_self": null,
            "border": null,
            "bottom": null,
            "display": null,
            "flex": null,
            "flex_flow": null,
            "grid_area": null,
            "grid_auto_columns": null,
            "grid_auto_flow": null,
            "grid_auto_rows": null,
            "grid_column": null,
            "grid_gap": null,
            "grid_row": null,
            "grid_template_areas": null,
            "grid_template_columns": null,
            "grid_template_rows": null,
            "height": null,
            "justify_content": null,
            "justify_items": null,
            "left": null,
            "margin": null,
            "max_height": null,
            "max_width": null,
            "min_height": null,
            "min_width": null,
            "object_fit": null,
            "object_position": null,
            "order": null,
            "overflow": null,
            "overflow_x": null,
            "overflow_y": null,
            "padding": null,
            "right": null,
            "top": null,
            "visibility": null,
            "width": null
          }
        },
        "a9f5436359024934bf766d48793f4bff": {
          "model_module": "@jupyter-widgets/controls",
          "model_name": "SliderStyleModel",
          "model_module_version": "1.5.0",
          "state": {
            "_model_module": "@jupyter-widgets/controls",
            "_model_module_version": "1.5.0",
            "_model_name": "SliderStyleModel",
            "_view_count": null,
            "_view_module": "@jupyter-widgets/base",
            "_view_module_version": "1.2.0",
            "_view_name": "StyleView",
            "description_width": "",
            "handle_color": null
          }
        },
        "3869940bc49742c7898d2b3136c43113": {
          "model_module": "@jupyter-widgets/base",
          "model_name": "LayoutModel",
          "model_module_version": "1.2.0",
          "state": {
            "_model_module": "@jupyter-widgets/base",
            "_model_module_version": "1.2.0",
            "_model_name": "LayoutModel",
            "_view_count": null,
            "_view_module": "@jupyter-widgets/base",
            "_view_module_version": "1.2.0",
            "_view_name": "LayoutView",
            "align_content": null,
            "align_items": null,
            "align_self": null,
            "border": null,
            "bottom": null,
            "display": null,
            "flex": null,
            "flex_flow": null,
            "grid_area": null,
            "grid_auto_columns": null,
            "grid_auto_flow": null,
            "grid_auto_rows": null,
            "grid_column": null,
            "grid_gap": null,
            "grid_row": null,
            "grid_template_areas": null,
            "grid_template_columns": null,
            "grid_template_rows": null,
            "height": null,
            "justify_content": null,
            "justify_items": null,
            "left": null,
            "margin": null,
            "max_height": null,
            "max_width": null,
            "min_height": null,
            "min_width": null,
            "object_fit": null,
            "object_position": null,
            "order": null,
            "overflow": null,
            "overflow_x": null,
            "overflow_y": null,
            "padding": null,
            "right": null,
            "top": null,
            "visibility": null,
            "width": null
          }
        },
        "d8a214cc2954464e9e735e7e6321204e": {
          "model_module": "@jupyter-widgets/controls",
          "model_name": "SliderStyleModel",
          "model_module_version": "1.5.0",
          "state": {
            "_model_module": "@jupyter-widgets/controls",
            "_model_module_version": "1.5.0",
            "_model_name": "SliderStyleModel",
            "_view_count": null,
            "_view_module": "@jupyter-widgets/base",
            "_view_module_version": "1.2.0",
            "_view_name": "StyleView",
            "description_width": "",
            "handle_color": null
          }
        },
        "3dd06cc0621d4445ae8906c7b62cc120": {
          "model_module": "@jupyter-widgets/base",
          "model_name": "LayoutModel",
          "model_module_version": "1.2.0",
          "state": {
            "_model_module": "@jupyter-widgets/base",
            "_model_module_version": "1.2.0",
            "_model_name": "LayoutModel",
            "_view_count": null,
            "_view_module": "@jupyter-widgets/base",
            "_view_module_version": "1.2.0",
            "_view_name": "LayoutView",
            "align_content": null,
            "align_items": null,
            "align_self": null,
            "border": null,
            "bottom": null,
            "display": null,
            "flex": null,
            "flex_flow": null,
            "grid_area": null,
            "grid_auto_columns": null,
            "grid_auto_flow": null,
            "grid_auto_rows": null,
            "grid_column": null,
            "grid_gap": null,
            "grid_row": null,
            "grid_template_areas": null,
            "grid_template_columns": null,
            "grid_template_rows": null,
            "height": null,
            "justify_content": null,
            "justify_items": null,
            "left": null,
            "margin": null,
            "max_height": null,
            "max_width": null,
            "min_height": null,
            "min_width": null,
            "object_fit": null,
            "object_position": null,
            "order": null,
            "overflow": null,
            "overflow_x": null,
            "overflow_y": null,
            "padding": null,
            "right": null,
            "top": null,
            "visibility": null,
            "width": null
          }
        },
        "3a56ff812dc64a89a0b6596a3cd6c5ba": {
          "model_module": "@jupyter-widgets/controls",
          "model_name": "SliderStyleModel",
          "model_module_version": "1.5.0",
          "state": {
            "_model_module": "@jupyter-widgets/controls",
            "_model_module_version": "1.5.0",
            "_model_name": "SliderStyleModel",
            "_view_count": null,
            "_view_module": "@jupyter-widgets/base",
            "_view_module_version": "1.2.0",
            "_view_name": "StyleView",
            "description_width": "",
            "handle_color": null
          }
        },
        "ae07af8a80394476ac10ebd1bc356831": {
          "model_module": "@jupyter-widgets/base",
          "model_name": "LayoutModel",
          "model_module_version": "1.2.0",
          "state": {
            "_model_module": "@jupyter-widgets/base",
            "_model_module_version": "1.2.0",
            "_model_name": "LayoutModel",
            "_view_count": null,
            "_view_module": "@jupyter-widgets/base",
            "_view_module_version": "1.2.0",
            "_view_name": "LayoutView",
            "align_content": null,
            "align_items": null,
            "align_self": null,
            "border": null,
            "bottom": null,
            "display": null,
            "flex": null,
            "flex_flow": null,
            "grid_area": null,
            "grid_auto_columns": null,
            "grid_auto_flow": null,
            "grid_auto_rows": null,
            "grid_column": null,
            "grid_gap": null,
            "grid_row": null,
            "grid_template_areas": null,
            "grid_template_columns": null,
            "grid_template_rows": null,
            "height": null,
            "justify_content": null,
            "justify_items": null,
            "left": null,
            "margin": null,
            "max_height": null,
            "max_width": null,
            "min_height": null,
            "min_width": null,
            "object_fit": null,
            "object_position": null,
            "order": null,
            "overflow": null,
            "overflow_x": null,
            "overflow_y": null,
            "padding": null,
            "right": null,
            "top": null,
            "visibility": null,
            "width": null
          }
        }
      }
    }
  },
  "cells": [
    {
      "cell_type": "markdown",
      "metadata": {
        "id": "view-in-github",
        "colab_type": "text"
      },
      "source": [
        "<a href=\"https://colab.research.google.com/github/xujialuellie/Algebra_with_Python/blob/main/Week_10_quadratics.ipynb\" target=\"_parent\"><img src=\"https://colab.research.google.com/assets/colab-badge.svg\" alt=\"Open In Colab\"/></a>"
      ]
    },
    {
      "cell_type": "markdown",
      "source": [
        "Solve a quadratic equation"
      ],
      "metadata": {
        "id": "rOGb3ifTKKnN"
      }
    },
    {
      "cell_type": "code",
      "source": [
        "# Coefficient values\n",
        "a = 1\n",
        "b = 5\n",
        "c = 6\n",
        "\n",
        "print(\"y = \", a, \"x**2 + \", b, \"x + \", c) \n",
        "\n",
        "# Vertex\n",
        "vx = -b/(2*a) \n",
        "vy = a*(vx**2) + b*vx + c \n",
        "print(\"Vertex: (\",vx,\",\",vy,\")\")\n",
        "\n",
        "# Roots\n",
        "d = b**2 - 4*a*c \n",
        "if d>=0: \n",
        "    root_1 = (-b + math.sqrt(d))/(2*a) \n",
        "    root_2 = (-b - math.sqrt(d))/(2*a) \n",
        "    print(\"Roots: x = \", root_1, \" and x = \", root_2)\n",
        "else:\n",
        "    print(\"No real roots\")\n",
        "\n"
      ],
      "metadata": {
        "id": "6EgKPtK6KEiX",
        "colab": {
          "base_uri": "https://localhost:8080/"
        },
        "outputId": "6e0a8f69-0928-4717-fe87-072602a03adf"
      },
      "execution_count": null,
      "outputs": [
        {
          "output_type": "stream",
          "name": "stdout",
          "text": [
            "y =  1 x**2 +  5 x +  6\n",
            "Vertex: ( -2.5 , -0.25 )\n",
            "Roots: x =  -2.0  and x =  -3.0\n"
          ]
        }
      ]
    },
    {
      "cell_type": "markdown",
      "source": [
        "Graph a quadratic function"
      ],
      "metadata": {
        "id": "_0W_QJr3L0ED"
      }
    },
    {
      "cell_type": "code",
      "execution_count": null,
      "metadata": {
        "colab": {
          "base_uri": "https://localhost:8080/",
          "height": 322
        },
        "id": "0hOY8qnMvg_d",
        "outputId": "2a02daa2-3d0b-44ac-ea2b-50c395836ce5"
      },
      "outputs": [
        {
          "output_type": "stream",
          "name": "stdout",
          "text": [
            "y =  1 x**2 +  5 x +  6\n",
            "Vertex: ( -2.5 , -0.25 )\n",
            "Roots: x =  -2.0  and x =  -3.0\n"
          ]
        },
        {
          "output_type": "display_data",
          "data": {
            "text/plain": [
              "<Figure size 432x288 with 1 Axes>"
            ],
            "image/png": "[encoded data removed]"
          },
          "metadata": {
            "needs_background": "light"
          }
        }
      ],
      "source": [
        "import matplotlib.pyplot as plt\n",
        "import numpy as np\n",
        "import math\n",
        "\n",
        "a = 1\n",
        "b = 5\n",
        "c = 6\n",
        "\n",
        "print(\"y = \", a, \"x**2 + \", b, \"x + \", c) \n",
        "\n",
        "# Vertex\n",
        "vx = -b/(2*a) \n",
        "vy = a*(vx**2) + b*vx + c \n",
        "print(\"Vertex: (\",vx,\",\",vy,\")\")\n",
        "\n",
        "xmin = -10\n",
        "xmax = 10\n",
        "ymin = -10\n",
        "ymax = 10\n",
        "points = 10*(xmax-xmin)\n",
        "x = np.linspace(xmin,xmax,points) \n",
        "\n",
        "fig, ax = plt.subplots()\n",
        "plt.axis([xmin,xmax,ymin,ymax]) # window size\n",
        "plt.plot([xmin,xmax],[0,0],'b') # blue x axis\n",
        "plt.plot([0,0],[ymin,ymax], 'b') # blue y axis\n",
        "\n",
        "# Graph the parabola\n",
        "y1 = a*x**2 + b*x + c \n",
        "plt.plot(x, y1) \n",
        "\n",
        "# Plot the vertex point\n",
        "plt.plot([vx],[vy], 'ro') \n",
        "\n",
        "# Find and plot the roots\n",
        "d = b**2 - 4*a*c \n",
        "if d>=0: \n",
        "    root_1 = (-b + math.sqrt(d))/(2*a) \n",
        "    root_2 = (-b - math.sqrt(d))/(2*a) \n",
        "    plt.plot([root_1, root_2],[0,0], 'go') \n",
        "    print(\"Roots: x = \", root_1, \" and x = \", root_2)\n",
        "\n",
        "plt.show() \n"
      ]
    },
    {
      "cell_type": "markdown",
      "source": [
        "Sliders to show how a, b, and c affect the graph"
      ],
      "metadata": {
        "id": "JfvmPbBbMwyy"
      }
    },
    {
      "cell_type": "code",
      "source": [
        "%matplotlib inline\n",
        "from ipywidgets import interactive\n",
        "import matplotlib.pyplot as plt\n",
        "import numpy as np\n",
        "import math\n",
        "\n",
        "# All graphing happens in this function\n",
        "def f(a,b,c):\n",
        "    xmin = -10\n",
        "    xmax = 10\n",
        "    ymin = -10\n",
        "    ymax = 10\n",
        "    points = 10*(xmax-xmin)\n",
        "    x = np.linspace(xmin,xmax,points)\n",
        "\n",
        "    plt.axis([xmin,xmax,ymin,ymax]) # window size\n",
        "    plt.plot([xmin,xmax],[0,0],'b') # x axis\n",
        "    plt.plot([0,0],[ymin,ymax], 'b') # y axis\n",
        "\n",
        "    # Parabola\n",
        "    y1 = a*x**2 + b*x + c \n",
        "    plt.plot(x, y1) \n",
        "\n",
        "    # Vertex\n",
        "    vx = -b/(2*a) \n",
        "    vy = a*(vx**2) + b*vx + c \n",
        "    plt.plot([vx],[vy], 'ro') \n",
        "\n",
        "    # Roots\n",
        "    d = b**2 - 4*a*c \n",
        "    if d>=0: \n",
        "        root_1 = (-b + math.sqrt(d))/(2*a) \n",
        "        root_2 = (-b - math.sqrt(d))/(2*a) \n",
        "        plt.plot([root_1, root_2],[0,0], 'go') \n",
        "    \n",
        "    # Set the equation as the title\n",
        "    sa = str(a)\n",
        "    sb = str(b)\n",
        "    sc = str(c)\n",
        "    h1 = \"y = \", sa, \"x**2 + \", sb, \"x + \", sc\n",
        "    h2 = \"\"\n",
        "    for w in h1:\n",
        "        h2 = h2 + w\n",
        "\n",
        "    plt.title(h2)\n",
        "    plt.show()\n",
        "\n",
        "# Interactive creates sliders for a, b, and c values\n",
        "interactive_plot = interactive(f, a=(1, 9), b=(-9,9), c=(-9,9))\n",
        "interactive_plot\n",
        "\n"
      ],
      "metadata": {
        "id": "-u93byP-ykKT",
        "colab": {
          "base_uri": "https://localhost:8080/",
          "height": 377,
          "referenced_widgets": [
            "5ce9085ac687416caa6581d0d505a6dd",
            "06d39acb1ff54f8f82b36906f35a7039",
            "de478b74c38b446f9e8d0605bb0a8ac5",
            "e0b9f0d6e8ac422c9ea6313a77819a69",
            "2ecbca567a6244c597e6418abbe17fe8",
            "794d859582c04c8b932c5dbe5f10395c",
            "557cd5a49dfe48ce8d32cd80276897a6",
            "a9f5436359024934bf766d48793f4bff",
            "3869940bc49742c7898d2b3136c43113",
            "d8a214cc2954464e9e735e7e6321204e",
            "3dd06cc0621d4445ae8906c7b62cc120",
            "3a56ff812dc64a89a0b6596a3cd6c5ba",
            "ae07af8a80394476ac10ebd1bc356831"
          ]
        },
        "outputId": "01b60cb0-61ba-40a2-81c7-5c5353719d32"
      },
      "execution_count": null,
      "outputs": [
        {
          "output_type": "display_data",
          "data": {
            "text/plain": [
              "interactive(children=(IntSlider(value=5, description='a', max=9, min=1), IntSlider(value=0, description='b', m…"
            ],
            "application/vnd.jupyter.widget-view+json": {
              "version_major": 2,
              "version_minor": 0,
              "model_id": "5ce9085ac687416caa6581d0d505a6dd"
            }
          },
          "metadata": {}
        }
      ]
    },
    {
      "cell_type": "code",
      "source": [],
      "metadata": {
        "id": "AjWd5RZZHIsv"
      },
      "execution_count": null,
      "outputs": []
    }
  ]
}